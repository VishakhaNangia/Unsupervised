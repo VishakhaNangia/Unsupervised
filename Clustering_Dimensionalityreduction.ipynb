{
 "cells": [
  {
   "cell_type": "code",
   "execution_count": 1,
   "metadata": {},
   "outputs": [
    {
     "name": "stderr",
     "output_type": "stream",
     "text": [
      "Using TensorFlow backend.\n"
     ]
    }
   ],
   "source": [
    "import pandas as pd\n",
    "import numpy as np \n",
    "import os\n",
    "from sklearn.metrics import accuracy_score\n",
    "from sklearn.model_selection import train_test_split \n",
    "from sklearn.preprocessing import MinMaxScaler\n",
    "import seaborn as sns\n",
    "import matplotlib.pyplot as plt\n",
    "import warnings\n",
    "from matplotlib.pylab import rcParams\n",
    "seed = 7\n",
    "np.random.seed(seed)\n",
    "warnings.filterwarnings(\"ignore\")\n",
    "rcParams['figure.figsize'] = 10, 5\n",
    "from sklearn import metrics\n",
    "import tensorflow as tf\n",
    "from tensorflow import keras\n",
    "from keras import Sequential\n",
    "from keras.layers import Dense\n",
    "from keras.callbacks import EarlyStopping, ModelCheckpoint\n",
    "from keras.callbacks import EarlyStopping, ModelCheckpoint\n",
    "from sklearn.metrics import confusion_matrix\n",
    "from keras.wrappers.scikit_learn import KerasClassifier\n",
    "from sklearn.model_selection import cross_val_score\n",
    "from sklearn.neighbors import KNeighborsClassifier  \n",
    "from sklearn.metrics import classification_report, confusion_matrix"
   ]
  },
  {
   "cell_type": "code",
   "execution_count": 2,
   "metadata": {},
   "outputs": [
    {
     "data": {
      "text/html": [
       "<div>\n",
       "<style scoped>\n",
       "    .dataframe tbody tr th:only-of-type {\n",
       "        vertical-align: middle;\n",
       "    }\n",
       "\n",
       "    .dataframe tbody tr th {\n",
       "        vertical-align: top;\n",
       "    }\n",
       "\n",
       "    .dataframe thead th {\n",
       "        text-align: right;\n",
       "    }\n",
       "</style>\n",
       "<table border=\"1\" class=\"dataframe\">\n",
       "  <thead>\n",
       "    <tr style=\"text-align: right;\">\n",
       "      <th></th>\n",
       "      <th>PagePopularitylikes</th>\n",
       "      <th>PageCheckin</th>\n",
       "      <th>Pagetalking about</th>\n",
       "      <th>PageCategory</th>\n",
       "      <th>MinCC1</th>\n",
       "      <th>MaxCC1</th>\n",
       "      <th>AverageCC1</th>\n",
       "      <th>MedianCC1</th>\n",
       "      <th>SDCC1</th>\n",
       "      <th>MinCC2</th>\n",
       "      <th>...</th>\n",
       "      <th>PostpublishedFriday</th>\n",
       "      <th>PostpublishedSaturday</th>\n",
       "      <th>BaseDateTimeSunday</th>\n",
       "      <th>BaseDateTimeMonday</th>\n",
       "      <th>BaseDateTTuesday</th>\n",
       "      <th>BaseDateTimeWednesday</th>\n",
       "      <th>BaseDateTimeThursday</th>\n",
       "      <th>BaseDateTimeFriday</th>\n",
       "      <th>BaseDateTimeSaturday</th>\n",
       "      <th>TargetVariable</th>\n",
       "    </tr>\n",
       "  </thead>\n",
       "  <tbody>\n",
       "    <tr>\n",
       "      <th>0</th>\n",
       "      <td>634995</td>\n",
       "      <td>0</td>\n",
       "      <td>463</td>\n",
       "      <td>1</td>\n",
       "      <td>0</td>\n",
       "      <td>806</td>\n",
       "      <td>11.291045</td>\n",
       "      <td>1.0</td>\n",
       "      <td>70.495138</td>\n",
       "      <td>0</td>\n",
       "      <td>...</td>\n",
       "      <td>0</td>\n",
       "      <td>0</td>\n",
       "      <td>0</td>\n",
       "      <td>0</td>\n",
       "      <td>0</td>\n",
       "      <td>0</td>\n",
       "      <td>0</td>\n",
       "      <td>0</td>\n",
       "      <td>1</td>\n",
       "      <td>0</td>\n",
       "    </tr>\n",
       "    <tr>\n",
       "      <th>1</th>\n",
       "      <td>634995</td>\n",
       "      <td>0</td>\n",
       "      <td>463</td>\n",
       "      <td>1</td>\n",
       "      <td>0</td>\n",
       "      <td>806</td>\n",
       "      <td>11.291045</td>\n",
       "      <td>1.0</td>\n",
       "      <td>70.495138</td>\n",
       "      <td>0</td>\n",
       "      <td>...</td>\n",
       "      <td>0</td>\n",
       "      <td>0</td>\n",
       "      <td>0</td>\n",
       "      <td>0</td>\n",
       "      <td>0</td>\n",
       "      <td>0</td>\n",
       "      <td>0</td>\n",
       "      <td>1</td>\n",
       "      <td>0</td>\n",
       "      <td>0</td>\n",
       "    </tr>\n",
       "    <tr>\n",
       "      <th>2</th>\n",
       "      <td>634995</td>\n",
       "      <td>0</td>\n",
       "      <td>463</td>\n",
       "      <td>1</td>\n",
       "      <td>0</td>\n",
       "      <td>806</td>\n",
       "      <td>11.291045</td>\n",
       "      <td>1.0</td>\n",
       "      <td>70.495138</td>\n",
       "      <td>0</td>\n",
       "      <td>...</td>\n",
       "      <td>1</td>\n",
       "      <td>0</td>\n",
       "      <td>0</td>\n",
       "      <td>0</td>\n",
       "      <td>0</td>\n",
       "      <td>0</td>\n",
       "      <td>0</td>\n",
       "      <td>0</td>\n",
       "      <td>1</td>\n",
       "      <td>0</td>\n",
       "    </tr>\n",
       "    <tr>\n",
       "      <th>3</th>\n",
       "      <td>634995</td>\n",
       "      <td>0</td>\n",
       "      <td>463</td>\n",
       "      <td>1</td>\n",
       "      <td>0</td>\n",
       "      <td>806</td>\n",
       "      <td>11.291045</td>\n",
       "      <td>1.0</td>\n",
       "      <td>70.495138</td>\n",
       "      <td>0</td>\n",
       "      <td>...</td>\n",
       "      <td>1</td>\n",
       "      <td>0</td>\n",
       "      <td>0</td>\n",
       "      <td>1</td>\n",
       "      <td>0</td>\n",
       "      <td>0</td>\n",
       "      <td>0</td>\n",
       "      <td>0</td>\n",
       "      <td>0</td>\n",
       "      <td>0</td>\n",
       "    </tr>\n",
       "    <tr>\n",
       "      <th>4</th>\n",
       "      <td>634995</td>\n",
       "      <td>0</td>\n",
       "      <td>463</td>\n",
       "      <td>1</td>\n",
       "      <td>0</td>\n",
       "      <td>806</td>\n",
       "      <td>11.291045</td>\n",
       "      <td>1.0</td>\n",
       "      <td>70.495138</td>\n",
       "      <td>0</td>\n",
       "      <td>...</td>\n",
       "      <td>0</td>\n",
       "      <td>0</td>\n",
       "      <td>0</td>\n",
       "      <td>0</td>\n",
       "      <td>0</td>\n",
       "      <td>1</td>\n",
       "      <td>0</td>\n",
       "      <td>0</td>\n",
       "      <td>0</td>\n",
       "      <td>0</td>\n",
       "    </tr>\n",
       "  </tbody>\n",
       "</table>\n",
       "<p>5 rows × 54 columns</p>\n",
       "</div>"
      ],
      "text/plain": [
       "   PagePopularitylikes   PageCheckin  Pagetalking about   PageCategory   \\\n",
       "0                634995            0                 463              1   \n",
       "1                634995            0                 463              1   \n",
       "2                634995            0                 463              1   \n",
       "3                634995            0                 463              1   \n",
       "4                634995            0                 463              1   \n",
       "\n",
       "   MinCC1  MaxCC1  AverageCC1  MedianCC1      SDCC1  MinCC2       ...        \\\n",
       "0       0     806   11.291045        1.0  70.495138       0       ...         \n",
       "1       0     806   11.291045        1.0  70.495138       0       ...         \n",
       "2       0     806   11.291045        1.0  70.495138       0       ...         \n",
       "3       0     806   11.291045        1.0  70.495138       0       ...         \n",
       "4       0     806   11.291045        1.0  70.495138       0       ...         \n",
       "\n",
       "   PostpublishedFriday  PostpublishedSaturday  BaseDateTimeSunday   \\\n",
       "0                    0                      0                    0   \n",
       "1                    0                      0                    0   \n",
       "2                    1                      0                    0   \n",
       "3                    1                      0                    0   \n",
       "4                    0                      0                    0   \n",
       "\n",
       "   BaseDateTimeMonday  BaseDateTTuesday   BaseDateTimeWednesday  \\\n",
       "0                   0                  0                      0   \n",
       "1                   0                  0                      0   \n",
       "2                   0                  0                      0   \n",
       "3                   1                  0                      0   \n",
       "4                   0                  0                      1   \n",
       "\n",
       "   BaseDateTimeThursday   BaseDateTimeFriday   BaseDateTimeSaturday   \\\n",
       "0                      0                    0                      1   \n",
       "1                      0                    1                      0   \n",
       "2                      0                    0                      1   \n",
       "3                      0                    0                      0   \n",
       "4                      0                    0                      0   \n",
       "\n",
       "   TargetVariable  \n",
       "0               0  \n",
       "1               0  \n",
       "2               0  \n",
       "3               0  \n",
       "4               0  \n",
       "\n",
       "[5 rows x 54 columns]"
      ]
     },
     "execution_count": 2,
     "metadata": {},
     "output_type": "execute_result"
    }
   ],
   "source": [
    "os.chdir(\"C:\\Vishakha\\Machine Learning\\Assignment_2\")\n",
    "Dataset1 = pd.read_csv(\"Fb_Data.csv\")\n",
    "Dataset1.head()"
   ]
  },
  {
   "cell_type": "code",
   "execution_count": 3,
   "metadata": {},
   "outputs": [],
   "source": [
    "Dataset1 = pd.DataFrame(Dataset1)\n",
    "Dataset1.columns = Dataset1.columns.to_series().apply(lambda x: x.strip())\n",
    "Dataset1['New_Target'] = [1 if each > 0 else 0 for each in Dataset1['TargetVariable']]\n",
    "y = Dataset1['New_Target'].values\n",
    "X = Dataset1.drop(['New_Target','TargetVariable'],axis = 1)\n"
   ]
  },
  {
   "cell_type": "code",
   "execution_count": 4,
   "metadata": {},
   "outputs": [],
   "source": [
    "#X = Dataset1.drop(['TargetVariable'],axis = 1)\n",
    "mms = MinMaxScaler()\n",
    "mms.fit(X)\n",
    "data_transformed = mms.transform(X)"
   ]
  },
  {
   "cell_type": "markdown",
   "metadata": {},
   "source": [
    "# K- Means Implementation -  Dataset1"
   ]
  },
  {
   "cell_type": "code",
   "execution_count": 39,
   "metadata": {},
   "outputs": [],
   "source": [
    "from sklearn.cluster import KMeans\n",
    "Sum_of_squared_distances = []\n",
    "K = range(1,40)\n",
    "for k in K:\n",
    "    km = KMeans(n_clusters=k,random_state = 131)\n",
    "    km = km.fit(data_transformed)\n",
    "    Sum_of_squared_distances.append(km.inertia_)"
   ]
  },
  {
   "cell_type": "code",
   "execution_count": 40,
   "metadata": {},
   "outputs": [
    {
     "data": {
      "image/png": "[encoded data removed]",
      "text/plain": [
       "<Figure size 432x288 with 1 Axes>"
      ]
     },
     "metadata": {},
     "output_type": "display_data"
    }
   ],
   "source": [
    "plt.plot(K, Sum_of_squared_distances, 'rx-')\n",
    "plt.xlabel('k')\n",
    "plt.ylabel('Sum_of_squared_distances')\n",
    "plt.title('Elbow Method For Optimal k')\n",
    "plt.show()"
   ]
  },
  {
   "cell_type": "code",
   "execution_count": 41,
   "metadata": {},
   "outputs": [],
   "source": [
    "kmeans = KMeans(n_clusters=7,random_state = 131)  \n",
    "kmeans_model = kmeans.fit(data_transformed) \n",
    "labels_pred =  kmeans.predict(data_transformed)\n",
    "labels = kmeans_model.labels_\n"
   ]
  },
  {
   "cell_type": "code",
   "execution_count": 8,
   "metadata": {},
   "outputs": [
    {
     "name": "stdout",
     "output_type": "stream",
     "text": [
      "[[ 2.99959409e-03  4.00033110e-03  8.89589258e-03  2.16178407e-01\n",
      "   6.99889304e-04  1.67405491e-01  2.53109932e-02  1.60297042e-02\n",
      "   6.61631408e-02  1.07938265e-04  1.16367381e-01  1.30769208e-02\n",
      "   4.81678253e-03  4.15007767e-02  1.70800027e-05  1.15895411e-01\n",
      "   2.89147584e-02  6.78475560e-03  5.41566574e-02  8.13181529e-04\n",
      "   1.61610527e-01  2.92272628e-02  1.87037243e-02  6.22069751e-02\n",
      "   4.66512857e-01  2.22406292e-01  1.71487401e-01  1.69083782e-01\n",
      "   4.64679783e-02  2.29225968e-02  1.00165146e-02  1.14417046e-02\n",
      "   2.17512045e-02  3.30963238e-01  4.83006912e-01  6.89778224e-03\n",
      "   9.80203919e-04  0.00000000e+00  9.77454557e-01  1.00000000e+00\n",
      "   6.66133815e-15  4.21884749e-15  1.43496326e-14 -1.19348975e-15\n",
      "   1.00475184e-14 -1.18238752e-14  1.66282642e-01  3.26420891e-01\n",
      "   3.19508449e-01  1.87788018e-01 -5.55111512e-17 -3.94129174e-15\n",
      "   1.49047441e-14]\n",
      " [ 2.68638274e-03  4.40731085e-03  6.82001374e-03  2.24759427e-01\n",
      "   9.10587742e-04  1.57324718e-01  2.41295455e-02  1.53338059e-02\n",
      "   6.19022085e-02  2.16597836e-04  1.03558060e-01  1.19363605e-02\n",
      "   4.30300093e-03  3.71454402e-02  4.20549597e-04  1.08676515e-01\n",
      "   2.83359408e-02  7.17220165e-03  5.16939605e-02  1.02896654e-03\n",
      "   1.51336239e-01  2.77227755e-02  1.78187228e-02  5.79343168e-02\n",
      "   4.70318605e-01  2.11084300e-01  1.70714242e-01  1.68735878e-01\n",
      "   4.21882338e-02  2.03912401e-02  7.84327448e-03  1.06963697e-02\n",
      "   1.92082325e-02  3.29830659e-01  4.92349934e-01  7.85851236e-03\n",
      "   9.41889900e-04  0.00000000e+00  9.88213299e-01  1.13797860e-14\n",
      "   1.23512311e-14  8.68749517e-15  1.98452366e-14  1.00000000e+00\n",
      "   1.11577414e-14 -1.30728761e-14  1.91351000e-01  3.33066907e-16\n",
      "   5.05151476e-15  9.18709553e-15  1.45829946e-01  3.29702487e-01\n",
      "   3.33116566e-01]\n",
      " [ 2.52834476e-03  3.92430411e-03  6.68659835e-03  2.22405549e-01\n",
      "   7.32982801e-04  1.52625796e-01  2.28629599e-02  1.44805045e-02\n",
      "   5.98409459e-02  2.32315998e-04  9.98890901e-02  1.13798882e-02\n",
      "   4.02790895e-03  3.58233421e-02  9.38989178e-05  1.05181297e-01\n",
      "   2.68159533e-02  6.63218643e-03  4.97917608e-02  8.53855136e-04\n",
      "   1.46785660e-01  2.63236237e-02  1.68651821e-02  5.60505660e-02\n",
      "   4.72663993e-01  2.07906249e-01  1.70709635e-01  1.68824554e-01\n",
      "   4.05606775e-02  1.88070105e-02  7.32903181e-03  1.03151139e-02\n",
      "   1.77376830e-02  3.29652046e-01  4.93750668e-01  7.65765201e-03\n",
      "   7.20064532e-04  0.00000000e+00  9.88938349e-01  1.14769305e-14\n",
      "   1.27675648e-14  9.02056208e-15  2.02338146e-14 -5.91193761e-15\n",
      "   1.00000000e+00 -1.31838984e-14  3.36220725e-01  1.88001283e-01\n",
      "   5.38458167e-15  9.52016244e-15 -5.55111512e-17  1.44048765e-01\n",
      "   3.31729227e-01]\n",
      " [ 2.82926975e-03  3.98055301e-03  7.26577802e-03  2.18274812e-01\n",
      "   6.46648746e-04  1.54887869e-01  2.39340343e-02  1.52953068e-02\n",
      "   6.17815835e-02  7.72152098e-05  1.04290842e-01  1.20131574e-02\n",
      "   4.20061247e-03  3.78938241e-02  6.03838480e-06  1.08484300e-01\n",
      "   2.80160292e-02  6.94800709e-03  5.14344168e-02  7.45625785e-04\n",
      "   1.49322728e-01  2.75477375e-02  1.77638318e-02  5.79318187e-02\n",
      "   4.70050788e-01  2.11917018e-01  1.70874354e-01  1.68615129e-01\n",
      "   4.27901610e-02  2.01858687e-02  8.02255396e-03  1.09009989e-02\n",
      "   1.90753505e-02  3.29861644e-01  4.84916293e-01  7.42471268e-03\n",
      "   7.38541226e-04  0.00000000e+00  9.89863917e-01  1.11022302e-14\n",
      "   1.00000000e+00  7.82707232e-15  1.87627691e-14 -4.71844785e-15\n",
      "   1.09356968e-14 -1.28230759e-14 -4.99600361e-16  1.44949495e-01\n",
      "   3.37373737e-01  3.27946128e-01  1.89730640e-01 -3.99680289e-15\n",
      "   1.95676808e-14]\n",
      " [ 3.03220187e-03  4.35575211e-03  7.10697166e-03  2.23724102e-01\n",
      "   8.64994052e-04  1.56347502e-01  2.44265722e-02  1.57503177e-02\n",
      "   6.22418800e-02  2.90285584e-04  1.02106513e-01  1.19671733e-02\n",
      "   4.23916174e-03  3.71574099e-02  3.46279507e-05  1.07693141e-01\n",
      "   2.87778052e-02  7.38218776e-03  5.20807246e-02  9.91957487e-04\n",
      "   1.50554023e-01  2.80486838e-02  1.83013061e-02  5.82119428e-02\n",
      "   4.70672945e-01  2.09730342e-01  1.70606801e-01  1.68640344e-01\n",
      "   4.24487220e-02  2.04283462e-02  8.45660647e-03  1.14281390e-02\n",
      "   1.92468883e-02  3.29922826e-01  4.84435022e-01  7.85827105e-03\n",
      "   7.67845208e-04  0.00000000e+00  9.81130409e-01  1.13520304e-14\n",
      "   1.22402088e-14  1.00000000e+00  1.97342143e-14 -5.49560397e-15\n",
      "   1.11577414e-14 -1.30728761e-14 -4.99600361e-16  3.33066907e-16\n",
      "   1.45955643e-01  3.49641226e-01  3.18982387e-01  1.85420744e-01\n",
      "   2.05946371e-14]\n",
      " [ 2.76143898e-03  4.38427635e-03  7.88227911e-03  2.19802258e-01\n",
      "   8.01146763e-04  1.59064701e-01  2.50307214e-02  1.59682228e-02\n",
      "   6.46415507e-02  1.39500075e-04  1.06278305e-01  1.24920034e-02\n",
      "   4.36703776e-03  3.95040582e-02  1.77977389e-05  1.09945210e-01\n",
      "   2.95308800e-02  7.44101218e-03  5.37407469e-02  9.35376227e-04\n",
      "   1.53374605e-01  2.88162500e-02  1.85717740e-02  6.06346281e-02\n",
      "   4.69613407e-01  2.13379111e-01  1.70816026e-01  1.68654909e-01\n",
      "   4.46527912e-02  2.13536464e-02  9.73051110e-03  1.13254100e-02\n",
      "   2.03639858e-02  3.30822131e-01  4.69174807e-01  7.68250993e-03\n",
      "   7.99449202e-04  0.00000000e+00  9.56608260e-01  1.17267307e-14\n",
      "   1.37945211e-14  9.82547377e-15  1.00000000e+00 -6.68909372e-15\n",
      "   1.14352972e-14 -1.34059430e-14 -4.99600361e-16  3.33066907e-16\n",
      "   6.27276009e-15  1.57388742e-01  3.53388122e-01  3.11986354e-01\n",
      "   1.77236781e-01]\n",
      " [ 2.94723917e-03  4.76743718e-03  7.30588631e-03  2.20601461e-01\n",
      "   5.88591214e-04  1.54307846e-01  2.39818221e-02  1.53238331e-02\n",
      "   6.14041300e-02  8.45757909e-05  1.04230145e-01  1.21106334e-02\n",
      "   4.21568876e-03  3.77813198e-02  1.47529072e-06  1.10989551e-01\n",
      "   2.77213002e-02  6.58496015e-03  5.16720749e-02  6.77764900e-04\n",
      "   1.48474041e-01  2.76608673e-02  1.78806947e-02  5.75959187e-02\n",
      "   4.69028712e-01  2.11907617e-01  1.71044061e-01  1.68873725e-01\n",
      "   4.28372418e-02  1.90874267e-02  7.60690211e-03  1.03952620e-02\n",
      "   1.80024946e-02  3.29803467e-01  4.86311054e-01  7.77230448e-03\n",
      "   6.91084809e-04  0.00000000e+00  9.87532134e-01  1.09634524e-14\n",
      "   1.06303855e-14  7.35522754e-15  1.81799020e-14 -4.27435864e-15\n",
      "   1.08246745e-14  1.00000000e+00  3.42073693e-01  3.23736075e-01\n",
      "   1.83890317e-01  7.82707232e-15 -5.55111512e-17 -3.99680289e-15\n",
      "   1.50299914e-01]]\n"
     ]
    }
   ],
   "source": [
    "print(kmeans.cluster_centers_)  "
   ]
  },
  {
   "cell_type": "code",
   "execution_count": 9,
   "metadata": {},
   "outputs": [
    {
     "name": "stdout",
     "output_type": "stream",
     "text": [
      "[5 1 2 ... 1 0 1]\n"
     ]
    }
   ],
   "source": [
    "print(labels_pred)"
   ]
  },
  {
   "cell_type": "code",
   "execution_count": 10,
   "metadata": {},
   "outputs": [
    {
     "data": {
      "text/plain": [
       "0.0001303841265065853"
      ]
     },
     "execution_count": 10,
     "metadata": {},
     "output_type": "execute_result"
    }
   ],
   "source": [
    "from sklearn import metrics\n",
    "metrics.homogeneity_score(y, labels_pred)"
   ]
  },
  {
   "cell_type": "code",
   "execution_count": 11,
   "metadata": {},
   "outputs": [
    {
     "data": {
      "text/plain": [
       "4.6196472666080276e-05"
      ]
     },
     "execution_count": 11,
     "metadata": {},
     "output_type": "execute_result"
    }
   ],
   "source": [
    "metrics.completeness_score(y, labels_pred) "
   ]
  },
  {
   "cell_type": "code",
   "execution_count": 12,
   "metadata": {},
   "outputs": [
    {
     "data": {
      "text/plain": [
       "2.783154990108196e-05"
      ]
     },
     "execution_count": 12,
     "metadata": {},
     "output_type": "execute_result"
    }
   ],
   "source": [
    "metrics.adjusted_rand_score(y, labels_pred)"
   ]
  },
  {
   "cell_type": "code",
   "execution_count": 13,
   "metadata": {},
   "outputs": [
    {
     "data": {
      "text/plain": [
       "9.404861648094126e-06"
      ]
     },
     "execution_count": 13,
     "metadata": {},
     "output_type": "execute_result"
    }
   ],
   "source": [
    "metrics.adjusted_mutual_info_score(y, labels_pred)"
   ]
  },
  {
   "cell_type": "code",
   "execution_count": 14,
   "metadata": {},
   "outputs": [
    {
     "data": {
      "text/plain": [
       "7.760983659467542e-05"
      ]
     },
     "execution_count": 14,
     "metadata": {},
     "output_type": "execute_result"
    }
   ],
   "source": [
    "metrics.normalized_mutual_info_score(y, labels_pred)  "
   ]
  },
  {
   "cell_type": "code",
   "execution_count": 15,
   "metadata": {},
   "outputs": [
    {
     "data": {
      "text/plain": [
       "0.3247151683620217"
      ]
     },
     "execution_count": 15,
     "metadata": {},
     "output_type": "execute_result"
    }
   ],
   "source": [
    "metrics.silhouette_score(data_transformed, labels, metric='euclidean')"
   ]
  },
  {
   "cell_type": "markdown",
   "metadata": {},
   "source": [
    "# Expectation Maximization Implemenation - Dataset1"
   ]
  },
  {
   "cell_type": "code",
   "execution_count": 215,
   "metadata": {},
   "outputs": [
    {
     "data": {
      "image/png": "[encoded data removed]",
      "text/plain": [
       "<Figure size 432x288 with 1 Axes>"
      ]
     },
     "metadata": {},
     "output_type": "display_data"
    }
   ],
   "source": [
    "from sklearn.mixture import GaussianMixture\n",
    "from sklearn.mixture import GMM\n",
    "n_components = np.arange(1, 20)\n",
    "models = [GMM(n, covariance_type='full', random_state=131).fit(data_transformed)\n",
    "          for n in n_components]\n",
    "\n",
    "plt.plot(n_components, [m.bic(data_transformed) for m in models], label='BIC')\n",
    "plt.plot(n_components, [m.aic(data_transformed) for m in models], label='AIC')\n",
    "plt.legend(loc='best')\n",
    "plt.xlabel('n_components');"
   ]
  },
  {
   "cell_type": "code",
   "execution_count": null,
   "metadata": {},
   "outputs": [],
   "source": [
    "gmm = GMM(n_components=12).fit(data_transformed)\n",
    "labels_gmm = gmm.predict(data_transformed)"
   ]
  },
  {
   "cell_type": "code",
   "execution_count": 73,
   "metadata": {},
   "outputs": [
    {
     "name": "stdout",
     "output_type": "stream",
     "text": [
      "[[0. 0. 1. 0. 0. 0. 0. 0. 0. 0. 0. 0.]\n",
      " [0. 0. 0. 0. 0. 0. 1. 0. 0. 0. 0. 0.]\n",
      " [0. 0. 0. 0. 0. 0. 0. 0. 0. 0. 0. 1.]\n",
      " [0. 0. 0. 0. 0. 0. 0. 1. 0. 0. 0. 0.]\n",
      " [0. 0. 0. 0. 0. 1. 0. 0. 0. 0. 0. 0.]]\n"
     ]
    }
   ],
   "source": [
    "probs = gmm.predict_proba(data_transformed)\n",
    "print(probs[:5].round(3))"
   ]
  },
  {
   "cell_type": "code",
   "execution_count": 74,
   "metadata": {},
   "outputs": [
    {
     "data": {
      "text/plain": [
       "0.05232138992754115"
      ]
     },
     "execution_count": 74,
     "metadata": {},
     "output_type": "execute_result"
    }
   ],
   "source": [
    "metrics.homogeneity_score(y, labels_gmm)"
   ]
  },
  {
   "cell_type": "code",
   "execution_count": 75,
   "metadata": {},
   "outputs": [
    {
     "data": {
      "text/plain": [
       "0.015124580054353595"
      ]
     },
     "execution_count": 75,
     "metadata": {},
     "output_type": "execute_result"
    }
   ],
   "source": [
    "metrics.completeness_score(y, labels_gmm)"
   ]
  },
  {
   "cell_type": "code",
   "execution_count": 76,
   "metadata": {},
   "outputs": [
    {
     "data": {
      "text/plain": [
       "0.008895115715047204"
      ]
     },
     "execution_count": 76,
     "metadata": {},
     "output_type": "execute_result"
    }
   ],
   "source": [
    "metrics.adjusted_rand_score(y, labels_gmm)"
   ]
  },
  {
   "cell_type": "code",
   "execution_count": 77,
   "metadata": {},
   "outputs": [
    {
     "data": {
      "text/plain": [
       "0.015070371572196841"
      ]
     },
     "execution_count": 77,
     "metadata": {},
     "output_type": "execute_result"
    }
   ],
   "source": [
    "metrics.adjusted_mutual_info_score(y, labels_gmm)"
   ]
  },
  {
   "cell_type": "code",
   "execution_count": 78,
   "metadata": {},
   "outputs": [
    {
     "data": {
      "text/plain": [
       "0.02813074919930406"
      ]
     },
     "execution_count": 78,
     "metadata": {},
     "output_type": "execute_result"
    }
   ],
   "source": [
    "metrics.normalized_mutual_info_score(y, labels_gmm)"
   ]
  },
  {
   "cell_type": "code",
   "execution_count": 79,
   "metadata": {},
   "outputs": [
    {
     "data": {
      "text/plain": [
       "0.35755159155784644"
      ]
     },
     "execution_count": 79,
     "metadata": {},
     "output_type": "execute_result"
    }
   ],
   "source": [
    "metrics.silhouette_score(data_transformed, labels_gmm, metric='euclidean')"
   ]
  },
  {
   "cell_type": "markdown",
   "metadata": {},
   "source": [
    "# Decision Tree - Dataset1"
   ]
  },
  {
   "cell_type": "code",
   "execution_count": 11,
   "metadata": {},
   "outputs": [],
   "source": [
    "Dataset1['New_Target'] = [1 if each > 0 else 0 for each in Dataset1['TargetVariable']]\n",
    "y = Dataset1['New_Target'].values\n",
    "x = Dataset1.drop(['New_Target','TargetVariable'],axis = 1)\n"
   ]
  },
  {
   "cell_type": "code",
   "execution_count": 12,
   "metadata": {},
   "outputs": [],
   "source": [
    "x_train, x_test, y_train, y_test = train_test_split(x, y, test_size = 0.30)  \n"
   ]
  },
  {
   "cell_type": "code",
   "execution_count": 13,
   "metadata": {},
   "outputs": [
    {
     "data": {
      "text/html": [
       "<div>\n",
       "<style scoped>\n",
       "    .dataframe tbody tr th:only-of-type {\n",
       "        vertical-align: middle;\n",
       "    }\n",
       "\n",
       "    .dataframe tbody tr th {\n",
       "        vertical-align: top;\n",
       "    }\n",
       "\n",
       "    .dataframe thead th {\n",
       "        text-align: right;\n",
       "    }\n",
       "</style>\n",
       "<table border=\"1\" class=\"dataframe\">\n",
       "  <thead>\n",
       "    <tr style=\"text-align: right;\">\n",
       "      <th></th>\n",
       "      <th>PagePopularitylikes</th>\n",
       "      <th>PageCheckin</th>\n",
       "      <th>Pagetalking about</th>\n",
       "      <th>PageCategory</th>\n",
       "      <th>MinCC1</th>\n",
       "      <th>MaxCC1</th>\n",
       "      <th>AverageCC1</th>\n",
       "      <th>MedianCC1</th>\n",
       "      <th>SDCC1</th>\n",
       "      <th>MinCC2</th>\n",
       "      <th>...</th>\n",
       "      <th>PostpublishedThursday</th>\n",
       "      <th>PostpublishedFriday</th>\n",
       "      <th>PostpublishedSaturday</th>\n",
       "      <th>BaseDateTimeSunday</th>\n",
       "      <th>BaseDateTimeMonday</th>\n",
       "      <th>BaseDateTTuesday</th>\n",
       "      <th>BaseDateTimeWednesday</th>\n",
       "      <th>BaseDateTimeThursday</th>\n",
       "      <th>BaseDateTimeFriday</th>\n",
       "      <th>BaseDateTimeSaturday</th>\n",
       "    </tr>\n",
       "  </thead>\n",
       "  <tbody>\n",
       "    <tr>\n",
       "      <th>count</th>\n",
       "      <td>29364.000000</td>\n",
       "      <td>29364.000000</td>\n",
       "      <td>29364.000000</td>\n",
       "      <td>29364.000000</td>\n",
       "      <td>29364.000000</td>\n",
       "      <td>29364.000000</td>\n",
       "      <td>29364.000000</td>\n",
       "      <td>29364.000000</td>\n",
       "      <td>29364.000000</td>\n",
       "      <td>29364.000000</td>\n",
       "      <td>...</td>\n",
       "      <td>29364.000000</td>\n",
       "      <td>29364.000000</td>\n",
       "      <td>29364.000000</td>\n",
       "      <td>29364.000000</td>\n",
       "      <td>29364.000000</td>\n",
       "      <td>29364.000000</td>\n",
       "      <td>29364.000000</td>\n",
       "      <td>29364.000000</td>\n",
       "      <td>29364.000000</td>\n",
       "      <td>29364.000000</td>\n",
       "    </tr>\n",
       "    <tr>\n",
       "      <th>mean</th>\n",
       "      <td>0.002858</td>\n",
       "      <td>0.004277</td>\n",
       "      <td>0.007430</td>\n",
       "      <td>0.220242</td>\n",
       "      <td>0.000774</td>\n",
       "      <td>0.158125</td>\n",
       "      <td>0.024272</td>\n",
       "      <td>0.015469</td>\n",
       "      <td>0.062743</td>\n",
       "      <td>0.000186</td>\n",
       "      <td>...</td>\n",
       "      <td>0.147187</td>\n",
       "      <td>0.148583</td>\n",
       "      <td>0.138605</td>\n",
       "      <td>0.147459</td>\n",
       "      <td>0.133803</td>\n",
       "      <td>0.132475</td>\n",
       "      <td>0.147459</td>\n",
       "      <td>0.148515</td>\n",
       "      <td>0.145348</td>\n",
       "      <td>0.144939</td>\n",
       "    </tr>\n",
       "    <tr>\n",
       "      <th>std</th>\n",
       "      <td>0.015140</td>\n",
       "      <td>0.019748</td>\n",
       "      <td>0.020967</td>\n",
       "      <td>0.189692</td>\n",
       "      <td>0.011132</td>\n",
       "      <td>0.178064</td>\n",
       "      <td>0.038169</td>\n",
       "      <td>0.030818</td>\n",
       "      <td>0.076503</td>\n",
       "      <td>0.008048</td>\n",
       "      <td>...</td>\n",
       "      <td>0.354298</td>\n",
       "      <td>0.355683</td>\n",
       "      <td>0.345540</td>\n",
       "      <td>0.354569</td>\n",
       "      <td>0.340447</td>\n",
       "      <td>0.339012</td>\n",
       "      <td>0.354569</td>\n",
       "      <td>0.355616</td>\n",
       "      <td>0.352457</td>\n",
       "      <td>0.352046</td>\n",
       "    </tr>\n",
       "    <tr>\n",
       "      <th>min</th>\n",
       "      <td>0.000000</td>\n",
       "      <td>0.000000</td>\n",
       "      <td>0.000000</td>\n",
       "      <td>0.000000</td>\n",
       "      <td>0.000000</td>\n",
       "      <td>0.000000</td>\n",
       "      <td>0.000000</td>\n",
       "      <td>0.000000</td>\n",
       "      <td>0.000000</td>\n",
       "      <td>0.000000</td>\n",
       "      <td>...</td>\n",
       "      <td>0.000000</td>\n",
       "      <td>0.000000</td>\n",
       "      <td>0.000000</td>\n",
       "      <td>0.000000</td>\n",
       "      <td>0.000000</td>\n",
       "      <td>0.000000</td>\n",
       "      <td>0.000000</td>\n",
       "      <td>0.000000</td>\n",
       "      <td>0.000000</td>\n",
       "      <td>0.000000</td>\n",
       "    </tr>\n",
       "    <tr>\n",
       "      <th>25%</th>\n",
       "      <td>0.000083</td>\n",
       "      <td>0.000000</td>\n",
       "      <td>0.000110</td>\n",
       "      <td>0.076190</td>\n",
       "      <td>0.000000</td>\n",
       "      <td>0.015745</td>\n",
       "      <td>0.002436</td>\n",
       "      <td>0.000854</td>\n",
       "      <td>0.007646</td>\n",
       "      <td>0.000000</td>\n",
       "      <td>...</td>\n",
       "      <td>0.000000</td>\n",
       "      <td>0.000000</td>\n",
       "      <td>0.000000</td>\n",
       "      <td>0.000000</td>\n",
       "      <td>0.000000</td>\n",
       "      <td>0.000000</td>\n",
       "      <td>0.000000</td>\n",
       "      <td>0.000000</td>\n",
       "      <td>0.000000</td>\n",
       "      <td>0.000000</td>\n",
       "    </tr>\n",
       "    <tr>\n",
       "      <th>50%</th>\n",
       "      <td>0.000636</td>\n",
       "      <td>0.000000</td>\n",
       "      <td>0.001202</td>\n",
       "      <td>0.161905</td>\n",
       "      <td>0.000000</td>\n",
       "      <td>0.087124</td>\n",
       "      <td>0.010301</td>\n",
       "      <td>0.005126</td>\n",
       "      <td>0.032565</td>\n",
       "      <td>0.000000</td>\n",
       "      <td>...</td>\n",
       "      <td>0.000000</td>\n",
       "      <td>0.000000</td>\n",
       "      <td>0.000000</td>\n",
       "      <td>0.000000</td>\n",
       "      <td>0.000000</td>\n",
       "      <td>0.000000</td>\n",
       "      <td>0.000000</td>\n",
       "      <td>0.000000</td>\n",
       "      <td>0.000000</td>\n",
       "      <td>0.000000</td>\n",
       "    </tr>\n",
       "    <tr>\n",
       "      <th>75%</th>\n",
       "      <td>0.002612</td>\n",
       "      <td>0.000090</td>\n",
       "      <td>0.007843</td>\n",
       "      <td>0.295238</td>\n",
       "      <td>0.000000</td>\n",
       "      <td>0.255773</td>\n",
       "      <td>0.031216</td>\n",
       "      <td>0.017941</td>\n",
       "      <td>0.097162</td>\n",
       "      <td>0.000000</td>\n",
       "      <td>...</td>\n",
       "      <td>0.000000</td>\n",
       "      <td>0.000000</td>\n",
       "      <td>0.000000</td>\n",
       "      <td>0.000000</td>\n",
       "      <td>0.000000</td>\n",
       "      <td>0.000000</td>\n",
       "      <td>0.000000</td>\n",
       "      <td>0.000000</td>\n",
       "      <td>0.000000</td>\n",
       "      <td>0.000000</td>\n",
       "    </tr>\n",
       "    <tr>\n",
       "      <th>max</th>\n",
       "      <td>1.000000</td>\n",
       "      <td>1.000000</td>\n",
       "      <td>1.000000</td>\n",
       "      <td>1.000000</td>\n",
       "      <td>1.000000</td>\n",
       "      <td>1.000000</td>\n",
       "      <td>1.000000</td>\n",
       "      <td>1.000000</td>\n",
       "      <td>1.000000</td>\n",
       "      <td>1.000000</td>\n",
       "      <td>...</td>\n",
       "      <td>1.000000</td>\n",
       "      <td>1.000000</td>\n",
       "      <td>1.000000</td>\n",
       "      <td>1.000000</td>\n",
       "      <td>1.000000</td>\n",
       "      <td>1.000000</td>\n",
       "      <td>1.000000</td>\n",
       "      <td>1.000000</td>\n",
       "      <td>1.000000</td>\n",
       "      <td>1.000000</td>\n",
       "    </tr>\n",
       "  </tbody>\n",
       "</table>\n",
       "<p>8 rows × 53 columns</p>\n",
       "</div>"
      ],
      "text/plain": [
       "       PagePopularitylikes   PageCheckin  Pagetalking about  PageCategory  \\\n",
       "count         29364.000000  29364.000000       29364.000000  29364.000000   \n",
       "mean              0.002858      0.004277           0.007430      0.220242   \n",
       "std               0.015140      0.019748           0.020967      0.189692   \n",
       "min               0.000000      0.000000           0.000000      0.000000   \n",
       "25%               0.000083      0.000000           0.000110      0.076190   \n",
       "50%               0.000636      0.000000           0.001202      0.161905   \n",
       "75%               0.002612      0.000090           0.007843      0.295238   \n",
       "max               1.000000      1.000000           1.000000      1.000000   \n",
       "\n",
       "             MinCC1        MaxCC1    AverageCC1     MedianCC1         SDCC1  \\\n",
       "count  29364.000000  29364.000000  29364.000000  29364.000000  29364.000000   \n",
       "mean       0.000774      0.158125      0.024272      0.015469      0.062743   \n",
       "std        0.011132      0.178064      0.038169      0.030818      0.076503   \n",
       "min        0.000000      0.000000      0.000000      0.000000      0.000000   \n",
       "25%        0.000000      0.015745      0.002436      0.000854      0.007646   \n",
       "50%        0.000000      0.087124      0.010301      0.005126      0.032565   \n",
       "75%        0.000000      0.255773      0.031216      0.017941      0.097162   \n",
       "max        1.000000      1.000000      1.000000      1.000000      1.000000   \n",
       "\n",
       "             MinCC2          ...           PostpublishedThursday  \\\n",
       "count  29364.000000          ...                    29364.000000   \n",
       "mean       0.000186          ...                        0.147187   \n",
       "std        0.008048          ...                        0.354298   \n",
       "min        0.000000          ...                        0.000000   \n",
       "25%        0.000000          ...                        0.000000   \n",
       "50%        0.000000          ...                        0.000000   \n",
       "75%        0.000000          ...                        0.000000   \n",
       "max        1.000000          ...                        1.000000   \n",
       "\n",
       "       PostpublishedFriday  PostpublishedSaturday  BaseDateTimeSunday  \\\n",
       "count         29364.000000           29364.000000        29364.000000   \n",
       "mean              0.148583               0.138605            0.147459   \n",
       "std               0.355683               0.345540            0.354569   \n",
       "min               0.000000               0.000000            0.000000   \n",
       "25%               0.000000               0.000000            0.000000   \n",
       "50%               0.000000               0.000000            0.000000   \n",
       "75%               0.000000               0.000000            0.000000   \n",
       "max               1.000000               1.000000            1.000000   \n",
       "\n",
       "       BaseDateTimeMonday  BaseDateTTuesday  BaseDateTimeWednesday  \\\n",
       "count        29364.000000      29364.000000           29364.000000   \n",
       "mean             0.133803          0.132475               0.147459   \n",
       "std              0.340447          0.339012               0.354569   \n",
       "min              0.000000          0.000000               0.000000   \n",
       "25%              0.000000          0.000000               0.000000   \n",
       "50%              0.000000          0.000000               0.000000   \n",
       "75%              0.000000          0.000000               0.000000   \n",
       "max              1.000000          1.000000               1.000000   \n",
       "\n",
       "       BaseDateTimeThursday  BaseDateTimeFriday  BaseDateTimeSaturday  \n",
       "count          29364.000000        29364.000000          29364.000000  \n",
       "mean               0.148515            0.145348              0.144939  \n",
       "std                0.355616            0.352457              0.352046  \n",
       "min                0.000000            0.000000              0.000000  \n",
       "25%                0.000000            0.000000              0.000000  \n",
       "50%                0.000000            0.000000              0.000000  \n",
       "75%                0.000000            0.000000              0.000000  \n",
       "max                1.000000            1.000000              1.000000  \n",
       "\n",
       "[8 rows x 53 columns]"
      ]
     },
     "execution_count": 13,
     "metadata": {},
     "output_type": "execute_result"
    },
    {
     "data": {
      "image/png": "[encoded data removed]",
      "text/plain": [
       "<Figure size 432x288 with 1 Axes>"
      ]
     },
     "metadata": {},
     "output_type": "display_data"
    }
   ],
   "source": [
    "scalerX = MinMaxScaler(feature_range=(0, 1))\n",
    "x_train[x_train.columns] = scalerX.fit_transform(x_train[x_train.columns])\n",
    "x_test[x_test.columns] = scalerX.transform(x_test[x_test.columns])\n",
    "sns.distplot(x_train['PageCategory'])\n",
    "x_train.describe()"
   ]
  },
  {
   "cell_type": "code",
   "execution_count": 86,
   "metadata": {},
   "outputs": [
    {
     "name": "stdout",
     "output_type": "stream",
     "text": [
      "score:  0.7651172030194676\n"
     ]
    }
   ],
   "source": [
    "from sklearn.tree import DecisionTreeClassifier\n",
    "dtc = DecisionTreeClassifier(criterion = \"entropy\",random_state=0)\n",
    "dtc.fit(x_train,y_train)\n",
    "print(\"score: \", accuracy_score(y_test,dtc.predict(x_test)))"
   ]
  },
  {
   "cell_type": "code",
   "execution_count": 88,
   "metadata": {},
   "outputs": [],
   "source": [
    "imp_features=dict(zip(x.columns, dtc.feature_importances_))"
   ]
  },
  {
   "cell_type": "code",
   "execution_count": 90,
   "metadata": {},
   "outputs": [
    {
     "name": "stdout",
     "output_type": "stream",
     "text": [
      "MinCC2: 0.0\n",
      "MinCC3: 0.0\n",
      "PostPromotionStatus: 0.0\n",
      "MinCC1: 0.0008581347802829192\n",
      "MinCC4: 0.000936320327889713\n",
      "PostpublishedMonday: 0.0035901568923706775\n",
      "PostpublishedSaturday: 0.003852512559387856\n",
      "BaseDateTimeSaturday: 0.003955775151446973\n",
      "PostpublishedFriday: 0.004038846156704051\n",
      "PostpublishedWednesday: 0.004100521403090092\n",
      "BaseDateTimeThursday: 0.004297659994001938\n",
      "PostpublishedSunday: 0.004429006032773785\n",
      "MedianCC5: 0.004432853181003892\n",
      "PostpublishedThursday: 0.00471219906500923\n",
      "BaseDateTTuesday: 0.004721856977904713\n",
      "BaseDateTimeFriday: 0.004914652527758343\n",
      "BaseDateTimeWednesday: 0.005205883825291492\n",
      "BaseDateTimeSunday: 0.005240401286074261\n",
      "AverageCC4: 0.005343133842678569\n",
      "BaseDateTimeMonday: 0.0055430625508711305\n",
      "PostpublishedTuesday: 0.0055699459416954766\n",
      "SDCC1: 0.005804469759313964\n",
      "MaxCC3: 0.006498740313357511\n",
      "MedianCC2: 0.006623759857796541\n",
      "SDCC4: 0.006638399608531618\n",
      "HLocal: 0.0067094826586828185\n",
      "AverageCC1: 0.006776263994116063\n",
      "SDCC3: 0.00717517030102809\n",
      "AverageCC3: 0.007509796833060103\n",
      "MaxCC1: 0.007514437204115708\n",
      "MaxCC2: 0.007705409099366509\n",
      "MaxCC4: 0.007717161331010841\n",
      "SDCC2: 0.008214457881018785\n",
      "MedianCC3: 0.008647050014741718\n",
      "MaxCC5: 0.008821247762592285\n",
      "MedianCC4: 0.009534516041068914\n",
      "PageCheckin: 0.009975895728591417\n",
      "AverageCC2: 0.01053608544744964\n",
      "SDCC5: 0.011023892422633557\n",
      "MinCC5: 0.011268296124757153\n",
      "PageCategory: 0.012735783196045205\n",
      "CC3: 0.013259638098267962\n",
      "AverageCC5: 0.01468662167090536\n",
      "MedianCC1: 0.017008885640637836\n",
      "CC1: 0.017891059958184435\n",
      "Pagetalking about: 0.019343238171795417\n",
      "PagePopularitylikes: 0.021774882934193607\n",
      "CC4: 0.025948592568767984\n",
      "CC5: 0.026916724660820013\n",
      "PostShareCount: 0.048448887770526056\n",
      "Postlength: 0.06732069770881052\n",
      "Basetime: 0.10224096304542016\n",
      "CC2: 0.3819865696961571\n"
     ]
    }
   ],
   "source": [
    "for key, value in sorted(imp_features.items(), key=lambda item: item[1]):\n",
    "    print(\"%s: %s\" % (key, value))"
   ]
  },
  {
   "cell_type": "markdown",
   "metadata": {},
   "source": [
    "# PCA implementation - Dataset1"
   ]
  },
  {
   "cell_type": "code",
   "execution_count": 5,
   "metadata": {},
   "outputs": [
    {
     "data": {
      "image/png": "[encoded data removed]",
      "text/plain": [
       "<Figure size 432x288 with 1 Axes>"
      ]
     },
     "metadata": {},
     "output_type": "display_data"
    }
   ],
   "source": [
    "from sklearn.decomposition import PCA\n",
    "#pca = PCA(n_components=2)\n",
    "pca = PCA().fit(X)\n",
    "#X_pca = pca.transform(X)\n",
    "plt.figure()\n",
    "plt.plot(np.cumsum(pca.explained_variance_ratio_))\n",
    "plt.xlabel('Number of Components')\n",
    "plt.ylabel('Variance (%)') #for each component\n",
    "plt.title('Facebook Dataset Explained Variance')\n",
    "plt.show()"
   ]
  },
  {
   "cell_type": "code",
   "execution_count": 6,
   "metadata": {},
   "outputs": [],
   "source": [
    "pca = PCA(n_components=2)\n",
    "X_pca = pca.fit_transform(X)"
   ]
  },
  {
   "cell_type": "code",
   "execution_count": 7,
   "metadata": {},
   "outputs": [
    {
     "name": "stdout",
     "output_type": "stream",
     "text": [
      "[[ 9.99935179e-01  1.32997744e-04  1.13849321e-02 -1.27178015e-07\n",
      "   2.08788361e-07  1.23356228e-05  2.29166508e-06  1.58599582e-06\n",
      "   2.28542634e-06  3.33207363e-08  1.07852207e-05  1.04930790e-06\n",
      "   4.89033745e-07  1.68464340e-06  1.01319234e-08  6.66267535e-06\n",
      "   7.57713988e-07  2.73623357e-07  1.21226042e-06  1.93269792e-07\n",
      "   1.19583839e-05  2.12638131e-06  1.48221530e-06  2.13860704e-06\n",
      "  -5.50935541e-06  1.07158061e-05  2.91593909e-07  7.20480037e-09\n",
      "   2.14551623e-06  2.27044588e-06  1.01877620e-06  7.86323107e-07\n",
      "   2.10403433e-06  2.32453088e-07 -4.12787930e-08 -2.46170670e-07\n",
      "   4.42875085e-05 -0.00000000e+00 -2.01292076e-08  2.30904873e-10\n",
      "   1.30033828e-11  3.20845755e-10 -9.38087155e-11 -2.03799168e-10\n",
      "  -4.50006358e-10  1.82860232e-10 -9.39995409e-12  7.37150101e-10\n",
      "  -1.91773543e-10  8.32392251e-12  1.48704570e-10 -2.27108932e-10\n",
      "  -4.65896165e-10]\n",
      " [-1.13850681e-02  2.28347421e-02  9.99664466e-01 -2.26390015e-05\n",
      "   3.04073845e-05  2.04314261e-03  3.69521605e-04  2.49860997e-04\n",
      "   3.79737133e-04  6.25187895e-06  1.64210033e-03  1.87559237e-04\n",
      "   9.88419030e-05  2.71024099e-04  8.62243168e-07  1.19456228e-03\n",
      "   1.14835491e-04  2.96400857e-05  2.03119127e-04  2.88105631e-05\n",
      "   1.93765353e-03  3.50060018e-04  2.39573130e-04  3.58463900e-04\n",
      "  -9.84100085e-04  1.62535087e-03  7.27237458e-05  2.98467222e-05\n",
      "   3.57248666e-04  3.65464202e-04  1.80878704e-04  1.21558656e-04\n",
      "   3.46739367e-04  5.93200477e-05 -1.01665678e-05 -4.36681800e-05\n",
      "   1.72604089e-03 -0.00000000e+00 -5.26093153e-06  8.78679264e-08\n",
      "  -1.00917019e-08 -3.51108038e-08  4.31382029e-08 -3.55300751e-08\n",
      "  -3.64781474e-08 -1.37954011e-08  2.48360128e-08  5.67033340e-08\n",
      "  -2.81923586e-08  2.54261042e-10  2.29870511e-08 -2.02374652e-08\n",
      "  -5.63508352e-08]]\n"
     ]
    }
   ],
   "source": [
    "print(pca.components_)"
   ]
  },
  {
   "cell_type": "code",
   "execution_count": 8,
   "metadata": {},
   "outputs": [
    {
     "name": "stdout",
     "output_type": "stream",
     "text": [
      "[4.69817348e+13 1.29806591e+10]\n"
     ]
    }
   ],
   "source": [
    "print(pca.explained_variance_)"
   ]
  },
  {
   "cell_type": "code",
   "execution_count": 9,
   "metadata": {},
   "outputs": [
    {
     "name": "stdout",
     "output_type": "stream",
     "text": [
      "original shape:    (41949, 53)\n",
      "transformed shape: (41949, 2)\n"
     ]
    }
   ],
   "source": [
    "print(\"original shape:   \", X.shape)\n",
    "print(\"transformed shape:\", X_pca.shape)"
   ]
  },
  {
   "cell_type": "markdown",
   "metadata": {},
   "source": [
    "# ICA Implementation "
   ]
  },
  {
   "cell_type": "code",
   "execution_count": 10,
   "metadata": {},
   "outputs": [],
   "source": [
    "from sklearn.decomposition import FastICA\n",
    "ica = FastICA(n_components=53,random_state=131)\n",
    "X_ICA = ica.fit_transform(X)  # Get the estimated sources\n",
    "A_ = ica.mixing_ "
   ]
  },
  {
   "cell_type": "code",
   "execution_count": 11,
   "metadata": {},
   "outputs": [
    {
     "data": {
      "text/plain": [
       "array([[-3.29647573e-03,  2.83323968e-03, -1.05306231e-10, ...,\n",
       "         1.64904880e-02,  1.51917755e-04,  5.55262738e-04],\n",
       "       [-1.51441697e-03,  2.55363319e-03, -1.51725294e-10, ...,\n",
       "        -1.43455184e-02,  2.92204415e-04,  4.45614227e-04],\n",
       "       [ 2.87583805e-03,  2.73550972e-03, -1.05306231e-10, ...,\n",
       "         1.34836296e-03,  2.55699541e-04,  4.03387172e-04],\n",
       "       ...,\n",
       "       [ 6.49092651e-04, -2.63297559e-03, -6.17386581e-10, ...,\n",
       "        -1.30228371e-02, -6.33253561e-03, -1.83133355e-03],\n",
       "       [ 5.43085815e-03,  1.05861621e-02,  2.84832163e-10, ...,\n",
       "         1.10241429e-03, -9.31348799e-04,  4.48608714e-03],\n",
       "       [-5.09790552e-03,  7.55660078e-04,  3.43039824e-10, ...,\n",
       "        -1.23277263e-02, -2.02682445e-03, -8.73179865e-03]])"
      ]
     },
     "execution_count": 11,
     "metadata": {},
     "output_type": "execute_result"
    }
   ],
   "source": [
    "X_ICA"
   ]
  },
  {
   "cell_type": "code",
   "execution_count": 12,
   "metadata": {},
   "outputs": [],
   "source": [
    "from sklearn.decomposition import FastICA\n",
    "from scipy.stats import kurtosis\n",
    "ica = FastICA(n_components=2,random_state=131)\n",
    "X_ICA = ica.fit_transform(X_pca) \n"
   ]
  },
  {
   "cell_type": "code",
   "execution_count": null,
   "metadata": {},
   "outputs": [],
   "source": [
    "print(\"original shape:   \", X.shape)\n",
    "print(\"transformed shape:\", X_ICA.shape)"
   ]
  },
  {
   "cell_type": "markdown",
   "metadata": {},
   "source": [
    "# Random Projection Implemntation"
   ]
  },
  {
   "cell_type": "code",
   "execution_count": 6,
   "metadata": {},
   "outputs": [
    {
     "data": {
      "text/plain": [
       "array([   285,    510,   9123, 857251])"
      ]
     },
     "execution_count": 6,
     "metadata": {},
     "output_type": "execute_result"
    }
   ],
   "source": [
    "from sklearn.random_projection import johnson_lindenstrauss_min_dim\n",
    "johnson_lindenstrauss_min_dim(n_samples=41949, eps=[0.8,0.5, 0.1, 0.01])"
   ]
  },
  {
   "cell_type": "code",
   "execution_count": 7,
   "metadata": {},
   "outputs": [
    {
     "name": "stdout",
     "output_type": "stream",
     "text": [
      "original shape:    (41949, 53)\n",
      "transformed shape: (41949, 53)\n"
     ]
    }
   ],
   "source": [
    "from sklearn.random_projection import GaussianRandomProjection\n",
    "GRP = GaussianRandomProjection(n_components = 53,eps = 0.5, random_state=131)\n",
    "GRP.fit(X)\n",
    "X_grd = GRP.transform(X)\n",
    "print(\"original shape:   \", X.shape)\n",
    "print(\"transformed shape:\", X_grd.shape)"
   ]
  },
  {
   "cell_type": "markdown",
   "metadata": {},
   "source": [
    "# Kmeans after applying PCA"
   ]
  },
  {
   "cell_type": "code",
   "execution_count": 217,
   "metadata": {},
   "outputs": [],
   "source": [
    "from sklearn.cluster import KMeans\n",
    "Sum_of_squared_distances = []\n",
    "K = range(1,20)\n",
    "for k in K:\n",
    "    km = KMeans(n_clusters=k)\n",
    "    km = km.fit(X_pca)\n",
    "    Sum_of_squared_distances.append(km.inertia_)"
   ]
  },
  {
   "cell_type": "code",
   "execution_count": 218,
   "metadata": {},
   "outputs": [
    {
     "data": {
      "image/png": "[encoded data removed]",
      "text/plain": [
       "<Figure size 432x288 with 1 Axes>"
      ]
     },
     "metadata": {},
     "output_type": "display_data"
    }
   ],
   "source": [
    "plt.plot(K, Sum_of_squared_distances, 'rx-')\n",
    "plt.xlabel('k')\n",
    "plt.ylabel('Sum_of_squared_distances')\n",
    "plt.title('Elbow Method For Optimal k')\n",
    "plt.show()"
   ]
  },
  {
   "cell_type": "code",
   "execution_count": 219,
   "metadata": {},
   "outputs": [],
   "source": [
    "kmeans = KMeans(n_clusters=2,random_state = 131)  \n",
    "kmeans_model = kmeans.fit(X_pca) \n",
    "labels_pred =  kmeans.predict(X_pca)\n",
    "labels = kmeans_model.labels_"
   ]
  },
  {
   "cell_type": "code",
   "execution_count": 220,
   "metadata": {},
   "outputs": [
    {
     "data": {
      "text/plain": [
       "0.00012538750126451557"
      ]
     },
     "execution_count": 220,
     "metadata": {},
     "output_type": "execute_result"
    }
   ],
   "source": [
    "metrics.homogeneity_score(y, labels_pred)"
   ]
  },
  {
   "cell_type": "code",
   "execution_count": 221,
   "metadata": {},
   "outputs": [
    {
     "data": {
      "text/plain": [
       "0.06128531641784994"
      ]
     },
     "execution_count": 221,
     "metadata": {},
     "output_type": "execute_result"
    }
   ],
   "source": [
    "metrics.completeness_score(y, labels_pred) "
   ]
  },
  {
   "cell_type": "code",
   "execution_count": 222,
   "metadata": {},
   "outputs": [
    {
     "data": {
      "text/plain": [
       "-4.88598749635902e-05"
      ]
     },
     "execution_count": 222,
     "metadata": {},
     "output_type": "execute_result"
    }
   ],
   "source": [
    "metrics.adjusted_rand_score(y, labels_pred)"
   ]
  },
  {
   "cell_type": "code",
   "execution_count": 223,
   "metadata": {},
   "outputs": [
    {
     "data": {
      "text/plain": [
       "0.00010588670583884097"
      ]
     },
     "execution_count": 223,
     "metadata": {},
     "output_type": "execute_result"
    }
   ],
   "source": [
    "metrics.adjusted_mutual_info_score(y, labels_pred)"
   ]
  },
  {
   "cell_type": "code",
   "execution_count": null,
   "metadata": {},
   "outputs": [],
   "source": [
    "metrics.silhouette_score(X_pca, labels, metric='euclidean')"
   ]
  },
  {
   "cell_type": "code",
   "execution_count": null,
   "metadata": {},
   "outputs": [],
   "source": [
    "# EM after using PCA"
   ]
  },
  {
   "cell_type": "code",
   "execution_count": 20,
   "metadata": {},
   "outputs": [
    {
     "data": {
      "image/png": "[encoded data removed]",
      "text/plain": [
       "<Figure size 720x360 with 1 Axes>"
      ]
     },
     "metadata": {},
     "output_type": "display_data"
    }
   ],
   "source": [
    "from sklearn.mixture import GaussianMixture\n",
    "from sklearn.mixture import GMM\n",
    "n_components = np.arange(1, 30)\n",
    "models = [GMM(n, covariance_type='full', random_state=0).fit(X_pca)\n",
    "          for n in n_components]\n",
    "\n",
    "plt.plot(n_components, [m.bic(X_pca) for m in models], label='BIC')\n",
    "plt.plot(n_components, [m.aic(X_pca) for m in models], label='AIC')\n",
    "plt.legend(loc='best')\n",
    "plt.xlabel('n_components');"
   ]
  },
  {
   "cell_type": "code",
   "execution_count": 23,
   "metadata": {},
   "outputs": [],
   "source": [
    "gmm = GMM(n_components=20).fit(data_transformed)\n",
    "labels_gmm = gmm.predict(data_transformed)"
   ]
  },
  {
   "cell_type": "code",
   "execution_count": null,
   "metadata": {},
   "outputs": [],
   "source": [
    "metrics.homogeneity_score(y, labels_gmm)"
   ]
  },
  {
   "cell_type": "code",
   "execution_count": null,
   "metadata": {},
   "outputs": [],
   "source": [
    "metrics.completeness_score(y, labels_gmm)"
   ]
  },
  {
   "cell_type": "code",
   "execution_count": null,
   "metadata": {},
   "outputs": [],
   "source": [
    "metrics.adjusted_rand_score(y, labels_gmm)"
   ]
  },
  {
   "cell_type": "code",
   "execution_count": null,
   "metadata": {},
   "outputs": [],
   "source": [
    "metrics.adjusted_mutual_info_score(y, labels_gmm)"
   ]
  },
  {
   "cell_type": "code",
   "execution_count": null,
   "metadata": {},
   "outputs": [],
   "source": [
    "metrics.silhouette_score(X_pca, labels_gmm, metric='euclidean')"
   ]
  },
  {
   "cell_type": "markdown",
   "metadata": {},
   "source": [
    "# K means after ICA"
   ]
  },
  {
   "cell_type": "code",
   "execution_count": 45,
   "metadata": {},
   "outputs": [
    {
     "data": {
      "image/png": "[encoded data removed]",
      "text/plain": [
       "<Figure size 720x360 with 1 Axes>"
      ]
     },
     "metadata": {},
     "output_type": "display_data"
    }
   ],
   "source": [
    "from sklearn.cluster import KMeans\n",
    "Sum_of_squared_distances = []\n",
    "K = range(1,20)\n",
    "for k in K:\n",
    "    km = KMeans(n_clusters=k)\n",
    "    km = km.fit(X_ICA)\n",
    "    Sum_of_squared_distances.append(km.inertia_)\n",
    "plt.plot(K, Sum_of_squared_distances, 'rx-')\n",
    "plt.xlabel('k')\n",
    "plt.ylabel('Sum_of_squared_distances')\n",
    "plt.title('Elbow Method For Optimal k')\n",
    "plt.show()"
   ]
  },
  {
   "cell_type": "code",
   "execution_count": 46,
   "metadata": {},
   "outputs": [],
   "source": [
    "kmeans = KMeans(n_clusters=4,random_state = 131)  \n",
    "kmeans_model = kmeans.fit(X_ICA) \n",
    "labels_pred =  kmeans.predict(X_ICA)"
   ]
  },
  {
   "cell_type": "code",
   "execution_count": 47,
   "metadata": {},
   "outputs": [
    {
     "data": {
      "text/plain": [
       "0.02250779036162242"
      ]
     },
     "execution_count": 47,
     "metadata": {},
     "output_type": "execute_result"
    }
   ],
   "source": [
    "metrics.homogeneity_score(y, labels_pred)"
   ]
  },
  {
   "cell_type": "code",
   "execution_count": null,
   "metadata": {},
   "outputs": [],
   "source": [
    "metrics.silhouette_score(X_ICA, labels_pred, metric='euclidean')"
   ]
  },
  {
   "cell_type": "markdown",
   "metadata": {},
   "source": [
    "# K means after RP"
   ]
  },
  {
   "cell_type": "code",
   "execution_count": 8,
   "metadata": {},
   "outputs": [
    {
     "data": {
      "image/png": "[encoded data removed]",
      "text/plain": [
       "<Figure size 432x288 with 1 Axes>"
      ]
     },
     "metadata": {},
     "output_type": "display_data"
    }
   ],
   "source": [
    "from sklearn.cluster import KMeans\n",
    "Sum_of_squared_distances = []\n",
    "K = range(1,20)\n",
    "for k in K:\n",
    "    km = KMeans(n_clusters=k)\n",
    "    km = km.fit(X_grd)\n",
    "    Sum_of_squared_distances.append(km.inertia_)\n",
    "plt.plot(K, Sum_of_squared_distances, 'rx-')\n",
    "plt.xlabel('k')\n",
    "plt.ylabel('Sum_of_squared_distances')\n",
    "plt.title('Elbow Method For Optimal k')\n",
    "plt.show()"
   ]
  },
  {
   "cell_type": "code",
   "execution_count": 9,
   "metadata": {},
   "outputs": [],
   "source": [
    "kmeans = KMeans(n_clusters=2,random_state = 131)  \n",
    "kmeans_model = kmeans.fit(X_grd) \n",
    "labels_pred =  kmeans.predict(X_grd)"
   ]
  },
  {
   "cell_type": "code",
   "execution_count": 10,
   "metadata": {},
   "outputs": [
    {
     "data": {
      "text/plain": [
       "0.00012538750126451557"
      ]
     },
     "execution_count": 10,
     "metadata": {},
     "output_type": "execute_result"
    }
   ],
   "source": [
    "metrics.homogeneity_score(y, labels_pred)"
   ]
  },
  {
   "cell_type": "code",
   "execution_count": 11,
   "metadata": {},
   "outputs": [
    {
     "ename": "KeyboardInterrupt",
     "evalue": "",
     "output_type": "error",
     "traceback": [
      "\u001b[1;31m---------------------------------------------------------------------------\u001b[0m",
      "\u001b[1;31mKeyboardInterrupt\u001b[0m                         Traceback (most recent call last)",
      "\u001b[1;32m<ipython-input-11-c94020526458>\u001b[0m in \u001b[0;36m<module>\u001b[1;34m()\u001b[0m\n\u001b[1;32m----> 1\u001b[1;33m \u001b[0mmetrics\u001b[0m\u001b[1;33m.\u001b[0m\u001b[0msilhouette_score\u001b[0m\u001b[1;33m(\u001b[0m\u001b[0mX_grd\u001b[0m\u001b[1;33m,\u001b[0m \u001b[0mlabels_pred\u001b[0m\u001b[1;33m,\u001b[0m \u001b[0mmetric\u001b[0m\u001b[1;33m=\u001b[0m\u001b[1;34m'euclidean'\u001b[0m\u001b[1;33m)\u001b[0m\u001b[1;33m\u001b[0m\u001b[0m\n\u001b[0m",
      "\u001b[1;32m~\\Anaconda3\\lib\\site-packages\\sklearn\\metrics\\cluster\\unsupervised.py\u001b[0m in \u001b[0;36msilhouette_score\u001b[1;34m(X, labels, metric, sample_size, random_state, **kwds)\u001b[0m\n\u001b[0;32m     99\u001b[0m         \u001b[1;32melse\u001b[0m\u001b[1;33m:\u001b[0m\u001b[1;33m\u001b[0m\u001b[0m\n\u001b[0;32m    100\u001b[0m             \u001b[0mX\u001b[0m\u001b[1;33m,\u001b[0m \u001b[0mlabels\u001b[0m \u001b[1;33m=\u001b[0m \u001b[0mX\u001b[0m\u001b[1;33m[\u001b[0m\u001b[0mindices\u001b[0m\u001b[1;33m]\u001b[0m\u001b[1;33m,\u001b[0m \u001b[0mlabels\u001b[0m\u001b[1;33m[\u001b[0m\u001b[0mindices\u001b[0m\u001b[1;33m]\u001b[0m\u001b[1;33m\u001b[0m\u001b[0m\n\u001b[1;32m--> 101\u001b[1;33m     \u001b[1;32mreturn\u001b[0m \u001b[0mnp\u001b[0m\u001b[1;33m.\u001b[0m\u001b[0mmean\u001b[0m\u001b[1;33m(\u001b[0m\u001b[0msilhouette_samples\u001b[0m\u001b[1;33m(\u001b[0m\u001b[0mX\u001b[0m\u001b[1;33m,\u001b[0m \u001b[0mlabels\u001b[0m\u001b[1;33m,\u001b[0m \u001b[0mmetric\u001b[0m\u001b[1;33m=\u001b[0m\u001b[0mmetric\u001b[0m\u001b[1;33m,\u001b[0m \u001b[1;33m**\u001b[0m\u001b[0mkwds\u001b[0m\u001b[1;33m)\u001b[0m\u001b[1;33m)\u001b[0m\u001b[1;33m\u001b[0m\u001b[0m\n\u001b[0m\u001b[0;32m    102\u001b[0m \u001b[1;33m\u001b[0m\u001b[0m\n\u001b[0;32m    103\u001b[0m \u001b[1;33m\u001b[0m\u001b[0m\n",
      "\u001b[1;32m~\\Anaconda3\\lib\\site-packages\\sklearn\\metrics\\cluster\\unsupervised.py\u001b[0m in \u001b[0;36msilhouette_samples\u001b[1;34m(X, labels, metric, **kwds)\u001b[0m\n\u001b[0;32m    167\u001b[0m     \u001b[0mcheck_number_of_labels\u001b[0m\u001b[1;33m(\u001b[0m\u001b[0mlen\u001b[0m\u001b[1;33m(\u001b[0m\u001b[0mle\u001b[0m\u001b[1;33m.\u001b[0m\u001b[0mclasses_\u001b[0m\u001b[1;33m)\u001b[0m\u001b[1;33m,\u001b[0m \u001b[0mX\u001b[0m\u001b[1;33m.\u001b[0m\u001b[0mshape\u001b[0m\u001b[1;33m[\u001b[0m\u001b[1;36m0\u001b[0m\u001b[1;33m]\u001b[0m\u001b[1;33m)\u001b[0m\u001b[1;33m\u001b[0m\u001b[0m\n\u001b[0;32m    168\u001b[0m \u001b[1;33m\u001b[0m\u001b[0m\n\u001b[1;32m--> 169\u001b[1;33m     \u001b[0mdistances\u001b[0m \u001b[1;33m=\u001b[0m \u001b[0mpairwise_distances\u001b[0m\u001b[1;33m(\u001b[0m\u001b[0mX\u001b[0m\u001b[1;33m,\u001b[0m \u001b[0mmetric\u001b[0m\u001b[1;33m=\u001b[0m\u001b[0mmetric\u001b[0m\u001b[1;33m,\u001b[0m \u001b[1;33m**\u001b[0m\u001b[0mkwds\u001b[0m\u001b[1;33m)\u001b[0m\u001b[1;33m\u001b[0m\u001b[0m\n\u001b[0m\u001b[0;32m    170\u001b[0m     \u001b[0munique_labels\u001b[0m \u001b[1;33m=\u001b[0m \u001b[0mle\u001b[0m\u001b[1;33m.\u001b[0m\u001b[0mclasses_\u001b[0m\u001b[1;33m\u001b[0m\u001b[0m\n\u001b[0;32m    171\u001b[0m     \u001b[0mn_samples_per_label\u001b[0m \u001b[1;33m=\u001b[0m \u001b[0mnp\u001b[0m\u001b[1;33m.\u001b[0m\u001b[0mbincount\u001b[0m\u001b[1;33m(\u001b[0m\u001b[0mlabels\u001b[0m\u001b[1;33m,\u001b[0m \u001b[0mminlength\u001b[0m\u001b[1;33m=\u001b[0m\u001b[0mlen\u001b[0m\u001b[1;33m(\u001b[0m\u001b[0munique_labels\u001b[0m\u001b[1;33m)\u001b[0m\u001b[1;33m)\u001b[0m\u001b[1;33m\u001b[0m\u001b[0m\n",
      "\u001b[1;32m~\\Anaconda3\\lib\\site-packages\\sklearn\\metrics\\pairwise.py\u001b[0m in \u001b[0;36mpairwise_distances\u001b[1;34m(X, Y, metric, n_jobs, **kwds)\u001b[0m\n\u001b[0;32m   1245\u001b[0m         \u001b[0mfunc\u001b[0m \u001b[1;33m=\u001b[0m \u001b[0mpartial\u001b[0m\u001b[1;33m(\u001b[0m\u001b[0mdistance\u001b[0m\u001b[1;33m.\u001b[0m\u001b[0mcdist\u001b[0m\u001b[1;33m,\u001b[0m \u001b[0mmetric\u001b[0m\u001b[1;33m=\u001b[0m\u001b[0mmetric\u001b[0m\u001b[1;33m,\u001b[0m \u001b[1;33m**\u001b[0m\u001b[0mkwds\u001b[0m\u001b[1;33m)\u001b[0m\u001b[1;33m\u001b[0m\u001b[0m\n\u001b[0;32m   1246\u001b[0m \u001b[1;33m\u001b[0m\u001b[0m\n\u001b[1;32m-> 1247\u001b[1;33m     \u001b[1;32mreturn\u001b[0m \u001b[0m_parallel_pairwise\u001b[0m\u001b[1;33m(\u001b[0m\u001b[0mX\u001b[0m\u001b[1;33m,\u001b[0m \u001b[0mY\u001b[0m\u001b[1;33m,\u001b[0m \u001b[0mfunc\u001b[0m\u001b[1;33m,\u001b[0m \u001b[0mn_jobs\u001b[0m\u001b[1;33m,\u001b[0m \u001b[1;33m**\u001b[0m\u001b[0mkwds\u001b[0m\u001b[1;33m)\u001b[0m\u001b[1;33m\u001b[0m\u001b[0m\n\u001b[0m\u001b[0;32m   1248\u001b[0m \u001b[1;33m\u001b[0m\u001b[0m\n\u001b[0;32m   1249\u001b[0m \u001b[1;33m\u001b[0m\u001b[0m\n",
      "\u001b[1;32m~\\Anaconda3\\lib\\site-packages\\sklearn\\metrics\\pairwise.py\u001b[0m in \u001b[0;36m_parallel_pairwise\u001b[1;34m(X, Y, func, n_jobs, **kwds)\u001b[0m\n\u001b[0;32m   1088\u001b[0m     \u001b[1;32mif\u001b[0m \u001b[0mn_jobs\u001b[0m \u001b[1;33m==\u001b[0m \u001b[1;36m1\u001b[0m\u001b[1;33m:\u001b[0m\u001b[1;33m\u001b[0m\u001b[0m\n\u001b[0;32m   1089\u001b[0m         \u001b[1;31m# Special case to avoid picklability checks in delayed\u001b[0m\u001b[1;33m\u001b[0m\u001b[1;33m\u001b[0m\u001b[0m\n\u001b[1;32m-> 1090\u001b[1;33m         \u001b[1;32mreturn\u001b[0m \u001b[0mfunc\u001b[0m\u001b[1;33m(\u001b[0m\u001b[0mX\u001b[0m\u001b[1;33m,\u001b[0m \u001b[0mY\u001b[0m\u001b[1;33m,\u001b[0m \u001b[1;33m**\u001b[0m\u001b[0mkwds\u001b[0m\u001b[1;33m)\u001b[0m\u001b[1;33m\u001b[0m\u001b[0m\n\u001b[0m\u001b[0;32m   1091\u001b[0m \u001b[1;33m\u001b[0m\u001b[0m\n\u001b[0;32m   1092\u001b[0m     \u001b[1;31m# TODO: in some cases, backend='threading' may be appropriate\u001b[0m\u001b[1;33m\u001b[0m\u001b[1;33m\u001b[0m\u001b[0m\n",
      "\u001b[1;32m~\\Anaconda3\\lib\\site-packages\\sklearn\\metrics\\pairwise.py\u001b[0m in \u001b[0;36meuclidean_distances\u001b[1;34m(X, Y, Y_norm_squared, squared, X_norm_squared)\u001b[0m\n\u001b[0;32m    246\u001b[0m     \u001b[0mdistances\u001b[0m \u001b[1;33m=\u001b[0m \u001b[0msafe_sparse_dot\u001b[0m\u001b[1;33m(\u001b[0m\u001b[0mX\u001b[0m\u001b[1;33m,\u001b[0m \u001b[0mY\u001b[0m\u001b[1;33m.\u001b[0m\u001b[0mT\u001b[0m\u001b[1;33m,\u001b[0m \u001b[0mdense_output\u001b[0m\u001b[1;33m=\u001b[0m\u001b[1;32mTrue\u001b[0m\u001b[1;33m)\u001b[0m\u001b[1;33m\u001b[0m\u001b[0m\n\u001b[0;32m    247\u001b[0m     \u001b[0mdistances\u001b[0m \u001b[1;33m*=\u001b[0m \u001b[1;33m-\u001b[0m\u001b[1;36m2\u001b[0m\u001b[1;33m\u001b[0m\u001b[0m\n\u001b[1;32m--> 248\u001b[1;33m     \u001b[0mdistances\u001b[0m \u001b[1;33m+=\u001b[0m \u001b[0mXX\u001b[0m\u001b[1;33m\u001b[0m\u001b[0m\n\u001b[0m\u001b[0;32m    249\u001b[0m     \u001b[0mdistances\u001b[0m \u001b[1;33m+=\u001b[0m \u001b[0mYY\u001b[0m\u001b[1;33m\u001b[0m\u001b[0m\n\u001b[0;32m    250\u001b[0m     \u001b[0mnp\u001b[0m\u001b[1;33m.\u001b[0m\u001b[0mmaximum\u001b[0m\u001b[1;33m(\u001b[0m\u001b[0mdistances\u001b[0m\u001b[1;33m,\u001b[0m \u001b[1;36m0\u001b[0m\u001b[1;33m,\u001b[0m \u001b[0mout\u001b[0m\u001b[1;33m=\u001b[0m\u001b[0mdistances\u001b[0m\u001b[1;33m)\u001b[0m\u001b[1;33m\u001b[0m\u001b[0m\n",
      "\u001b[1;31mKeyboardInterrupt\u001b[0m: "
     ]
    }
   ],
   "source": [
    "metrics.silhouette_score(X_grd, labels_pred, metric='euclidean')"
   ]
  },
  {
   "cell_type": "markdown",
   "metadata": {},
   "source": [
    "# EM after ICA"
   ]
  },
  {
   "cell_type": "code",
   "execution_count": 18,
   "metadata": {},
   "outputs": [
    {
     "data": {
      "image/png": "[encoded data removed]",
      "text/plain": [
       "<Figure size 432x288 with 1 Axes>"
      ]
     },
     "metadata": {},
     "output_type": "display_data"
    }
   ],
   "source": [
    "from sklearn.mixture import GaussianMixture\n",
    "from sklearn.mixture import GMM\n",
    "n_components = np.arange(1, 30)\n",
    "models = [GMM(n, covariance_type='full', random_state=0).fit(X_ICA)\n",
    "          for n in n_components]\n",
    "\n",
    "plt.plot(n_components, [m.bic(X_ICA) for m in models], label='BIC')\n",
    "plt.plot(n_components, [m.aic(X_ICA) for m in models], label='AIC')\n",
    "plt.legend(loc='best')\n",
    "plt.xlabel('n_components');"
   ]
  },
  {
   "cell_type": "code",
   "execution_count": 20,
   "metadata": {},
   "outputs": [],
   "source": [
    "gmm = GMM(n_components=5).fit(X_ICA)\n",
    "labels_gmm = gmm.predict(X_ICA)"
   ]
  },
  {
   "cell_type": "code",
   "execution_count": 21,
   "metadata": {},
   "outputs": [
    {
     "data": {
      "text/plain": [
       "0.0001256906914785094"
      ]
     },
     "execution_count": 21,
     "metadata": {},
     "output_type": "execute_result"
    }
   ],
   "source": [
    "metrics.homogeneity_score(y, labels_gmm)"
   ]
  },
  {
   "cell_type": "code",
   "execution_count": null,
   "metadata": {},
   "outputs": [],
   "source": [
    "metrics.silhouette_score(X_ICA, labels_gmm, metric='euclidean')"
   ]
  },
  {
   "cell_type": "code",
   "execution_count": 79,
   "metadata": {},
   "outputs": [
    {
     "data": {
      "image/png": "[encoded data removed]",
      "text/plain": [
       "<Figure size 432x288 with 1 Axes>"
      ]
     },
     "metadata": {},
     "output_type": "display_data"
    }
   ],
   "source": [
    "from sklearn.cluster import KMeans\n",
    "Sum_of_squared_distances = []\n",
    "K = range(1,20)\n",
    "for k in K:\n",
    "    km = KMeans(n_clusters=k)\n",
    "    km = km.fit(X_grd)\n",
    "    Sum_of_squared_distances.append(km.inertia_)\n",
    "plt.plot(K, Sum_of_squared_distances, 'bx-')\n",
    "plt.xlabel('k')\n",
    "plt.ylabel('Sum_of_squared_distances')\n",
    "plt.title('Elbow Method For Optimal k')\n",
    "plt.show()"
   ]
  },
  {
   "cell_type": "markdown",
   "metadata": {},
   "source": [
    "# EM after applying RP"
   ]
  },
  {
   "cell_type": "code",
   "execution_count": 12,
   "metadata": {},
   "outputs": [
    {
     "ename": "ValueError",
     "evalue": "'covars' must be symmetric, positive-definite",
     "output_type": "error",
     "traceback": [
      "\u001b[1;31m---------------------------------------------------------------------------\u001b[0m",
      "\u001b[1;31mLinAlgError\u001b[0m                               Traceback (most recent call last)",
      "\u001b[1;32m~\\Anaconda3\\lib\\site-packages\\sklearn\\mixture\\gmm.py\u001b[0m in \u001b[0;36m_log_multivariate_normal_density_full\u001b[1;34m(X, means, covars, min_covar)\u001b[0m\n\u001b[0;32m    726\u001b[0m         \u001b[1;32mtry\u001b[0m\u001b[1;33m:\u001b[0m\u001b[1;33m\u001b[0m\u001b[0m\n\u001b[1;32m--> 727\u001b[1;33m             \u001b[0mcv_chol\u001b[0m \u001b[1;33m=\u001b[0m \u001b[0mlinalg\u001b[0m\u001b[1;33m.\u001b[0m\u001b[0mcholesky\u001b[0m\u001b[1;33m(\u001b[0m\u001b[0mcv\u001b[0m\u001b[1;33m,\u001b[0m \u001b[0mlower\u001b[0m\u001b[1;33m=\u001b[0m\u001b[1;32mTrue\u001b[0m\u001b[1;33m)\u001b[0m\u001b[1;33m\u001b[0m\u001b[0m\n\u001b[0m\u001b[0;32m    728\u001b[0m         \u001b[1;32mexcept\u001b[0m \u001b[0mlinalg\u001b[0m\u001b[1;33m.\u001b[0m\u001b[0mLinAlgError\u001b[0m\u001b[1;33m:\u001b[0m\u001b[1;33m\u001b[0m\u001b[0m\n",
      "\u001b[1;32m~\\Anaconda3\\lib\\site-packages\\scipy\\linalg\\decomp_cholesky.py\u001b[0m in \u001b[0;36mcholesky\u001b[1;34m(a, lower, overwrite_a, check_finite)\u001b[0m\n\u001b[0;32m     90\u001b[0m     c, lower = _cholesky(a, lower=lower, overwrite_a=overwrite_a, clean=True,\n\u001b[1;32m---> 91\u001b[1;33m                          check_finite=check_finite)\n\u001b[0m\u001b[0;32m     92\u001b[0m     \u001b[1;32mreturn\u001b[0m \u001b[0mc\u001b[0m\u001b[1;33m\u001b[0m\u001b[0m\n",
      "\u001b[1;32m~\\Anaconda3\\lib\\site-packages\\scipy\\linalg\\decomp_cholesky.py\u001b[0m in \u001b[0;36m_cholesky\u001b[1;34m(a, lower, overwrite_a, clean, check_finite)\u001b[0m\n\u001b[0;32m     39\u001b[0m         raise LinAlgError(\"%d-th leading minor of the array is not positive \"\n\u001b[1;32m---> 40\u001b[1;33m                           \"definite\" % info)\n\u001b[0m\u001b[0;32m     41\u001b[0m     \u001b[1;32mif\u001b[0m \u001b[0minfo\u001b[0m \u001b[1;33m<\u001b[0m \u001b[1;36m0\u001b[0m\u001b[1;33m:\u001b[0m\u001b[1;33m\u001b[0m\u001b[0m\n",
      "\u001b[1;31mLinAlgError\u001b[0m: 39-th leading minor of the array is not positive definite",
      "\nDuring handling of the above exception, another exception occurred:\n",
      "\u001b[1;31mLinAlgError\u001b[0m                               Traceback (most recent call last)",
      "\u001b[1;32m~\\Anaconda3\\lib\\site-packages\\sklearn\\mixture\\gmm.py\u001b[0m in \u001b[0;36m_log_multivariate_normal_density_full\u001b[1;34m(X, means, covars, min_covar)\u001b[0m\n\u001b[0;32m    732\u001b[0m                 cv_chol = linalg.cholesky(cv + min_covar * np.eye(n_dim),\n\u001b[1;32m--> 733\u001b[1;33m                                           lower=True)\n\u001b[0m\u001b[0;32m    734\u001b[0m             \u001b[1;32mexcept\u001b[0m \u001b[0mlinalg\u001b[0m\u001b[1;33m.\u001b[0m\u001b[0mLinAlgError\u001b[0m\u001b[1;33m:\u001b[0m\u001b[1;33m\u001b[0m\u001b[0m\n",
      "\u001b[1;32m~\\Anaconda3\\lib\\site-packages\\scipy\\linalg\\decomp_cholesky.py\u001b[0m in \u001b[0;36mcholesky\u001b[1;34m(a, lower, overwrite_a, check_finite)\u001b[0m\n\u001b[0;32m     90\u001b[0m     c, lower = _cholesky(a, lower=lower, overwrite_a=overwrite_a, clean=True,\n\u001b[1;32m---> 91\u001b[1;33m                          check_finite=check_finite)\n\u001b[0m\u001b[0;32m     92\u001b[0m     \u001b[1;32mreturn\u001b[0m \u001b[0mc\u001b[0m\u001b[1;33m\u001b[0m\u001b[0m\n",
      "\u001b[1;32m~\\Anaconda3\\lib\\site-packages\\scipy\\linalg\\decomp_cholesky.py\u001b[0m in \u001b[0;36m_cholesky\u001b[1;34m(a, lower, overwrite_a, clean, check_finite)\u001b[0m\n\u001b[0;32m     39\u001b[0m         raise LinAlgError(\"%d-th leading minor of the array is not positive \"\n\u001b[1;32m---> 40\u001b[1;33m                           \"definite\" % info)\n\u001b[0m\u001b[0;32m     41\u001b[0m     \u001b[1;32mif\u001b[0m \u001b[0minfo\u001b[0m \u001b[1;33m<\u001b[0m \u001b[1;36m0\u001b[0m\u001b[1;33m:\u001b[0m\u001b[1;33m\u001b[0m\u001b[0m\n",
      "\u001b[1;31mLinAlgError\u001b[0m: 39-th leading minor of the array is not positive definite",
      "\nDuring handling of the above exception, another exception occurred:\n",
      "\u001b[1;31mValueError\u001b[0m                                Traceback (most recent call last)",
      "\u001b[1;32m<ipython-input-12-bf0674a2788f>\u001b[0m in \u001b[0;36m<module>\u001b[1;34m()\u001b[0m\n\u001b[0;32m      3\u001b[0m \u001b[0mn_components\u001b[0m \u001b[1;33m=\u001b[0m \u001b[0mnp\u001b[0m\u001b[1;33m.\u001b[0m\u001b[0marange\u001b[0m\u001b[1;33m(\u001b[0m\u001b[1;36m1\u001b[0m\u001b[1;33m,\u001b[0m \u001b[1;36m30\u001b[0m\u001b[1;33m)\u001b[0m\u001b[1;33m\u001b[0m\u001b[0m\n\u001b[0;32m      4\u001b[0m models = [GMM(n, covariance_type='full', random_state=0).fit(X_grd)\n\u001b[1;32m----> 5\u001b[1;33m           for n in n_components]\n\u001b[0m\u001b[0;32m      6\u001b[0m \u001b[1;33m\u001b[0m\u001b[0m\n\u001b[0;32m      7\u001b[0m \u001b[0mplt\u001b[0m\u001b[1;33m.\u001b[0m\u001b[0mplot\u001b[0m\u001b[1;33m(\u001b[0m\u001b[0mn_components\u001b[0m\u001b[1;33m,\u001b[0m \u001b[1;33m[\u001b[0m\u001b[0mm\u001b[0m\u001b[1;33m.\u001b[0m\u001b[0mbic\u001b[0m\u001b[1;33m(\u001b[0m\u001b[0mX_grd\u001b[0m\u001b[1;33m)\u001b[0m \u001b[1;32mfor\u001b[0m \u001b[0mm\u001b[0m \u001b[1;32min\u001b[0m \u001b[0mmodels\u001b[0m\u001b[1;33m]\u001b[0m\u001b[1;33m,\u001b[0m \u001b[0mlabel\u001b[0m\u001b[1;33m=\u001b[0m\u001b[1;34m'BIC'\u001b[0m\u001b[1;33m)\u001b[0m\u001b[1;33m\u001b[0m\u001b[0m\n",
      "\u001b[1;32m<ipython-input-12-bf0674a2788f>\u001b[0m in \u001b[0;36m<listcomp>\u001b[1;34m(.0)\u001b[0m\n\u001b[0;32m      3\u001b[0m \u001b[0mn_components\u001b[0m \u001b[1;33m=\u001b[0m \u001b[0mnp\u001b[0m\u001b[1;33m.\u001b[0m\u001b[0marange\u001b[0m\u001b[1;33m(\u001b[0m\u001b[1;36m1\u001b[0m\u001b[1;33m,\u001b[0m \u001b[1;36m30\u001b[0m\u001b[1;33m)\u001b[0m\u001b[1;33m\u001b[0m\u001b[0m\n\u001b[0;32m      4\u001b[0m models = [GMM(n, covariance_type='full', random_state=0).fit(X_grd)\n\u001b[1;32m----> 5\u001b[1;33m           for n in n_components]\n\u001b[0m\u001b[0;32m      6\u001b[0m \u001b[1;33m\u001b[0m\u001b[0m\n\u001b[0;32m      7\u001b[0m \u001b[0mplt\u001b[0m\u001b[1;33m.\u001b[0m\u001b[0mplot\u001b[0m\u001b[1;33m(\u001b[0m\u001b[0mn_components\u001b[0m\u001b[1;33m,\u001b[0m \u001b[1;33m[\u001b[0m\u001b[0mm\u001b[0m\u001b[1;33m.\u001b[0m\u001b[0mbic\u001b[0m\u001b[1;33m(\u001b[0m\u001b[0mX_grd\u001b[0m\u001b[1;33m)\u001b[0m \u001b[1;32mfor\u001b[0m \u001b[0mm\u001b[0m \u001b[1;32min\u001b[0m \u001b[0mmodels\u001b[0m\u001b[1;33m]\u001b[0m\u001b[1;33m,\u001b[0m \u001b[0mlabel\u001b[0m\u001b[1;33m=\u001b[0m\u001b[1;34m'BIC'\u001b[0m\u001b[1;33m)\u001b[0m\u001b[1;33m\u001b[0m\u001b[0m\n",
      "\u001b[1;32m~\\Anaconda3\\lib\\site-packages\\sklearn\\mixture\\gmm.py\u001b[0m in \u001b[0;36mfit\u001b[1;34m(self, X, y)\u001b[0m\n\u001b[0;32m    600\u001b[0m         \u001b[0mself\u001b[0m\u001b[1;33m\u001b[0m\u001b[0m\n\u001b[0;32m    601\u001b[0m         \"\"\"\n\u001b[1;32m--> 602\u001b[1;33m         \u001b[0mself\u001b[0m\u001b[1;33m.\u001b[0m\u001b[0m_fit\u001b[0m\u001b[1;33m(\u001b[0m\u001b[0mX\u001b[0m\u001b[1;33m,\u001b[0m \u001b[0my\u001b[0m\u001b[1;33m)\u001b[0m\u001b[1;33m\u001b[0m\u001b[0m\n\u001b[0m\u001b[0;32m    603\u001b[0m         \u001b[1;32mreturn\u001b[0m \u001b[0mself\u001b[0m\u001b[1;33m\u001b[0m\u001b[0m\n\u001b[0;32m    604\u001b[0m \u001b[1;33m\u001b[0m\u001b[0m\n",
      "\u001b[1;32m~\\Anaconda3\\lib\\site-packages\\sklearn\\mixture\\gmm.py\u001b[0m in \u001b[0;36m_fit\u001b[1;34m(self, X, y, do_prediction)\u001b[0m\n\u001b[0;32m    527\u001b[0m                 \u001b[0mprev_log_likelihood\u001b[0m \u001b[1;33m=\u001b[0m \u001b[0mcurrent_log_likelihood\u001b[0m\u001b[1;33m\u001b[0m\u001b[0m\n\u001b[0;32m    528\u001b[0m                 \u001b[1;31m# Expectation step\u001b[0m\u001b[1;33m\u001b[0m\u001b[1;33m\u001b[0m\u001b[0m\n\u001b[1;32m--> 529\u001b[1;33m                 \u001b[0mlog_likelihoods\u001b[0m\u001b[1;33m,\u001b[0m \u001b[0mresponsibilities\u001b[0m \u001b[1;33m=\u001b[0m \u001b[0mself\u001b[0m\u001b[1;33m.\u001b[0m\u001b[0mscore_samples\u001b[0m\u001b[1;33m(\u001b[0m\u001b[0mX\u001b[0m\u001b[1;33m)\u001b[0m\u001b[1;33m\u001b[0m\u001b[0m\n\u001b[0m\u001b[0;32m    530\u001b[0m                 \u001b[0mcurrent_log_likelihood\u001b[0m \u001b[1;33m=\u001b[0m \u001b[0mlog_likelihoods\u001b[0m\u001b[1;33m.\u001b[0m\u001b[0mmean\u001b[0m\u001b[1;33m(\u001b[0m\u001b[1;33m)\u001b[0m\u001b[1;33m\u001b[0m\u001b[0m\n\u001b[0;32m    531\u001b[0m \u001b[1;33m\u001b[0m\u001b[0m\n",
      "\u001b[1;32m~\\Anaconda3\\lib\\site-packages\\sklearn\\mixture\\gmm.py\u001b[0m in \u001b[0;36mscore_samples\u001b[1;34m(self, X)\u001b[0m\n\u001b[0;32m    338\u001b[0m \u001b[1;33m\u001b[0m\u001b[0m\n\u001b[0;32m    339\u001b[0m         lpr = (log_multivariate_normal_density(X, self.means_, self.covars_,\n\u001b[1;32m--> 340\u001b[1;33m                                                self.covariance_type) +\n\u001b[0m\u001b[0;32m    341\u001b[0m                np.log(self.weights_))\n\u001b[0;32m    342\u001b[0m         \u001b[0mlogprob\u001b[0m \u001b[1;33m=\u001b[0m \u001b[0mlogsumexp\u001b[0m\u001b[1;33m(\u001b[0m\u001b[0mlpr\u001b[0m\u001b[1;33m,\u001b[0m \u001b[0maxis\u001b[0m\u001b[1;33m=\u001b[0m\u001b[1;36m1\u001b[0m\u001b[1;33m)\u001b[0m\u001b[1;33m\u001b[0m\u001b[0m\n",
      "\u001b[1;32m~\\Anaconda3\\lib\\site-packages\\sklearn\\utils\\deprecation.py\u001b[0m in \u001b[0;36mwrapped\u001b[1;34m(*args, **kwargs)\u001b[0m\n\u001b[0;32m     76\u001b[0m         \u001b[1;32mdef\u001b[0m \u001b[0mwrapped\u001b[0m\u001b[1;33m(\u001b[0m\u001b[1;33m*\u001b[0m\u001b[0margs\u001b[0m\u001b[1;33m,\u001b[0m \u001b[1;33m**\u001b[0m\u001b[0mkwargs\u001b[0m\u001b[1;33m)\u001b[0m\u001b[1;33m:\u001b[0m\u001b[1;33m\u001b[0m\u001b[0m\n\u001b[0;32m     77\u001b[0m             \u001b[0mwarnings\u001b[0m\u001b[1;33m.\u001b[0m\u001b[0mwarn\u001b[0m\u001b[1;33m(\u001b[0m\u001b[0mmsg\u001b[0m\u001b[1;33m,\u001b[0m \u001b[0mcategory\u001b[0m\u001b[1;33m=\u001b[0m\u001b[0mDeprecationWarning\u001b[0m\u001b[1;33m)\u001b[0m\u001b[1;33m\u001b[0m\u001b[0m\n\u001b[1;32m---> 78\u001b[1;33m             \u001b[1;32mreturn\u001b[0m \u001b[0mfun\u001b[0m\u001b[1;33m(\u001b[0m\u001b[1;33m*\u001b[0m\u001b[0margs\u001b[0m\u001b[1;33m,\u001b[0m \u001b[1;33m**\u001b[0m\u001b[0mkwargs\u001b[0m\u001b[1;33m)\u001b[0m\u001b[1;33m\u001b[0m\u001b[0m\n\u001b[0m\u001b[0;32m     79\u001b[0m \u001b[1;33m\u001b[0m\u001b[0m\n\u001b[0;32m     80\u001b[0m         \u001b[0mwrapped\u001b[0m\u001b[1;33m.\u001b[0m\u001b[0m__doc__\u001b[0m \u001b[1;33m=\u001b[0m \u001b[0mself\u001b[0m\u001b[1;33m.\u001b[0m\u001b[0m_update_doc\u001b[0m\u001b[1;33m(\u001b[0m\u001b[0mwrapped\u001b[0m\u001b[1;33m.\u001b[0m\u001b[0m__doc__\u001b[0m\u001b[1;33m)\u001b[0m\u001b[1;33m\u001b[0m\u001b[0m\n",
      "\u001b[1;32m~\\Anaconda3\\lib\\site-packages\\sklearn\\mixture\\gmm.py\u001b[0m in \u001b[0;36mlog_multivariate_normal_density\u001b[1;34m(X, means, covars, covariance_type)\u001b[0m\n\u001b[0;32m     70\u001b[0m         'full': _log_multivariate_normal_density_full}\n\u001b[0;32m     71\u001b[0m     return log_multivariate_normal_density_dict[covariance_type](\n\u001b[1;32m---> 72\u001b[1;33m         X, means, covars)\n\u001b[0m\u001b[0;32m     73\u001b[0m \u001b[1;33m\u001b[0m\u001b[0m\n\u001b[0;32m     74\u001b[0m \u001b[1;33m\u001b[0m\u001b[0m\n",
      "\u001b[1;32m~\\Anaconda3\\lib\\site-packages\\sklearn\\mixture\\gmm.py\u001b[0m in \u001b[0;36m_log_multivariate_normal_density_full\u001b[1;34m(X, means, covars, min_covar)\u001b[0m\n\u001b[0;32m    733\u001b[0m                                           lower=True)\n\u001b[0;32m    734\u001b[0m             \u001b[1;32mexcept\u001b[0m \u001b[0mlinalg\u001b[0m\u001b[1;33m.\u001b[0m\u001b[0mLinAlgError\u001b[0m\u001b[1;33m:\u001b[0m\u001b[1;33m\u001b[0m\u001b[0m\n\u001b[1;32m--> 735\u001b[1;33m                 raise ValueError(\"'covars' must be symmetric, \"\n\u001b[0m\u001b[0;32m    736\u001b[0m                                  \"positive-definite\")\n\u001b[0;32m    737\u001b[0m \u001b[1;33m\u001b[0m\u001b[0m\n",
      "\u001b[1;31mValueError\u001b[0m: 'covars' must be symmetric, positive-definite"
     ]
    }
   ],
   "source": [
    "from sklearn.mixture import GaussianMixture\n",
    "from sklearn.mixture import GMM\n",
    "n_components = np.arange(1, 30)\n",
    "models = [GMM(n, covariance_type='full', random_state=0).fit(X_grd)\n",
    "          for n in n_components]\n",
    "\n",
    "plt.plot(n_components, [m.bic(X_grd) for m in models], label='BIC')\n",
    "plt.plot(n_components, [m.aic(X_grd) for m in models], label='AIC')\n",
    "plt.legend(loc='best')\n",
    "plt.xlabel('n_components');"
   ]
  },
  {
   "cell_type": "code",
   "execution_count": 6,
   "metadata": {},
   "outputs": [],
   "source": [
    "# Neural Network implementation"
   ]
  },
  {
   "cell_type": "code",
   "execution_count": 14,
   "metadata": {},
   "outputs": [],
   "source": [
    "classifier = Sequential()\n",
    "#First Hidden Layer\n",
    "classifier.add(Dense(10, activation='tanh', kernel_initializer='random_normal', input_dim=53))\n",
    "# #Second  Hidden Layer\n",
    "classifier.add(Dense(10, activation='tanh', kernel_initializer='random_normal'))\n",
    "# # #Third  Hidden Layer\n",
    "#classifier.add(Dense(4, activation='tanh', kernel_initializer='random_normal'))\n",
    "#Output Layer\n",
    "classifier.add(Dense(1, activation='sigmoid', kernel_initializer='random_normal'))"
   ]
  },
  {
   "cell_type": "code",
   "execution_count": 15,
   "metadata": {},
   "outputs": [],
   "source": [
    "#Compiling the neural network\n",
    "classifier.compile(optimizer ='adam',loss='binary_crossentropy', metrics =['accuracy'])"
   ]
  },
  {
   "cell_type": "code",
   "execution_count": 16,
   "metadata": {},
   "outputs": [],
   "source": [
    "# Set callback functions to early stop training and save the best model so far\n",
    "callbacks = [EarlyStopping(monitor='val_loss', patience=2)]"
   ]
  },
  {
   "cell_type": "code",
   "execution_count": 17,
   "metadata": {},
   "outputs": [
    {
     "name": "stdout",
     "output_type": "stream",
     "text": [
      "WARNING:tensorflow:From C:\\Users\\vishi\\Anaconda3\\lib\\site-packages\\tensorflow\\python\\ops\\math_ops.py:3066: to_int32 (from tensorflow.python.ops.math_ops) is deprecated and will be removed in a future version.\n",
      "Instructions for updating:\n",
      "Use tf.cast instead.\n",
      "Train on 29364 samples, validate on 12585 samples\n",
      "Epoch 1/30\n",
      "29364/29364 [==============================] - 1s 41us/step - loss: 0.5139 - acc: 0.7438 - val_loss: 0.4593 - val_acc: 0.7917\n",
      "Epoch 2/30\n",
      "29364/29364 [==============================] - 1s 34us/step - loss: 0.4515 - acc: 0.7924 - val_loss: 0.4459 - val_acc: 0.7993\n",
      "Epoch 3/30\n",
      "29364/29364 [==============================] - 1s 30us/step - loss: 0.4418 - acc: 0.8000 - val_loss: 0.4405 - val_acc: 0.8019\n",
      "Epoch 4/30\n",
      "29364/29364 [==============================] - 1s 29us/step - loss: 0.4375 - acc: 0.8047 - val_loss: 0.4337 - val_acc: 0.8087\n",
      "Epoch 5/30\n",
      "29364/29364 [==============================] - 1s 30us/step - loss: 0.4334 - acc: 0.8050 - val_loss: 0.4319 - val_acc: 0.8060\n",
      "Epoch 6/30\n",
      "29364/29364 [==============================] - 1s 30us/step - loss: 0.4282 - acc: 0.8100 - val_loss: 0.4308 - val_acc: 0.8112\n",
      "Epoch 7/30\n",
      "29364/29364 [==============================] - 1s 30us/step - loss: 0.4226 - acc: 0.8152 - val_loss: 0.4197 - val_acc: 0.8173\n",
      "Epoch 8/30\n",
      "29364/29364 [==============================] - 1s 38us/step - loss: 0.4161 - acc: 0.8168 - val_loss: 0.4167 - val_acc: 0.8166\n",
      "Epoch 9/30\n",
      "29364/29364 [==============================] - 1s 43us/step - loss: 0.4112 - acc: 0.8206 - val_loss: 0.4125 - val_acc: 0.8172\n",
      "Epoch 10/30\n",
      "29364/29364 [==============================] - 1s 39us/step - loss: 0.4078 - acc: 0.8206 - val_loss: 0.4124 - val_acc: 0.8196\n",
      "Epoch 11/30\n",
      "29364/29364 [==============================] - 1s 38us/step - loss: 0.4049 - acc: 0.8224 - val_loss: 0.4110 - val_acc: 0.8172\n",
      "Epoch 12/30\n",
      "29364/29364 [==============================] - 1s 38us/step - loss: 0.4032 - acc: 0.8204 - val_loss: 0.4054 - val_acc: 0.8210\n",
      "Epoch 13/30\n",
      "29364/29364 [==============================] - 1s 39us/step - loss: 0.4015 - acc: 0.8216 - val_loss: 0.4049 - val_acc: 0.8186\n",
      "Epoch 14/30\n",
      "29364/29364 [==============================] - 1s 44us/step - loss: 0.3994 - acc: 0.8231 - val_loss: 0.4099 - val_acc: 0.8118\n",
      "Epoch 15/30\n",
      "29364/29364 [==============================] - 1s 42us/step - loss: 0.3977 - acc: 0.8238 - val_loss: 0.4019 - val_acc: 0.8187\n",
      "Epoch 16/30\n",
      "29364/29364 [==============================] - 1s 45us/step - loss: 0.3965 - acc: 0.8243 - val_loss: 0.4003 - val_acc: 0.8212\n",
      "Epoch 17/30\n",
      "29364/29364 [==============================] - 1s 40us/step - loss: 0.3958 - acc: 0.8243 - val_loss: 0.4106 - val_acc: 0.8130\n",
      "Epoch 18/30\n",
      "29364/29364 [==============================] - 1s 39us/step - loss: 0.3942 - acc: 0.8250 - val_loss: 0.3986 - val_acc: 0.8203\n",
      "Epoch 19/30\n",
      "29364/29364 [==============================] - 1s 39us/step - loss: 0.3924 - acc: 0.8254 - val_loss: 0.3980 - val_acc: 0.8215\n",
      "Epoch 20/30\n",
      "29364/29364 [==============================] - 1s 39us/step - loss: 0.3921 - acc: 0.8249 - val_loss: 0.3985 - val_acc: 0.8225\n",
      "Epoch 21/30\n",
      "29364/29364 [==============================] - 1s 41us/step - loss: 0.3910 - acc: 0.8260 - val_loss: 0.3950 - val_acc: 0.8219\n",
      "Epoch 22/30\n",
      "29364/29364 [==============================] - 1s 40us/step - loss: 0.3897 - acc: 0.8275 - val_loss: 0.3974 - val_acc: 0.8209\n",
      "Epoch 23/30\n",
      "29364/29364 [==============================] - 1s 41us/step - loss: 0.3891 - acc: 0.8266 - val_loss: 0.3923 - val_acc: 0.8261\n",
      "Epoch 24/30\n",
      "29364/29364 [==============================] - 1s 41us/step - loss: 0.3879 - acc: 0.8262 - val_loss: 0.3916 - val_acc: 0.8239\n",
      "Epoch 25/30\n",
      "29364/29364 [==============================] - 1s 41us/step - loss: 0.3870 - acc: 0.8277 - val_loss: 0.3911 - val_acc: 0.8238\n",
      "Epoch 26/30\n",
      "29364/29364 [==============================] - 1s 41us/step - loss: 0.3869 - acc: 0.8267 - val_loss: 0.3957 - val_acc: 0.8211\n",
      "Epoch 27/30\n",
      "29364/29364 [==============================] - 1s 40us/step - loss: 0.3857 - acc: 0.8276 - val_loss: 0.3916 - val_acc: 0.8245\n"
     ]
    }
   ],
   "source": [
    "#Fitting the data to the training dataset\n",
    "model_2 =classifier.fit(x_train,y_train,epochs=30,callbacks=callbacks,batch_size =32,validation_data=(x_test, y_test))"
   ]
  },
  {
   "cell_type": "code",
   "execution_count": 23,
   "metadata": {},
   "outputs": [
    {
     "data": {
      "image/png": "[encoded data removed]",
      "text/plain": [
       "<Figure size 432x288 with 1 Axes>"
      ]
     },
     "metadata": {},
     "output_type": "display_data"
    }
   ],
   "source": [
    "plt.plot(model_2.history['acc'])\n",
    "plt.plot(model_2.history['val_acc'])\n",
    "plt.title('model accuracy for tanh in  Hidden Layer and Sigmoid in Output Layer')\n",
    "plt.ylabel('accuracy')\n",
    "plt.xlabel('epoch')\n",
    "plt.legend(['train', 'test'], loc='upper left')\n",
    "plt.show()"
   ]
  },
  {
   "cell_type": "code",
   "execution_count": 24,
   "metadata": {},
   "outputs": [
    {
     "data": {
      "image/png": "[encoded data removed]",
      "text/plain": [
       "<Figure size 432x288 with 1 Axes>"
      ]
     },
     "metadata": {},
     "output_type": "display_data"
    }
   ],
   "source": [
    "plt.plot(model_2.history['loss'])\n",
    "plt.plot(model_2.history['val_loss'])\n",
    "plt.title('model accuracy for Tanh in  Hidden Layer and Sigmoid in Output Layer')\n",
    "plt.ylabel('loss')\n",
    "plt.xlabel('epoch')\n",
    "plt.legend(['train', 'test'], loc='upper left')\n",
    "plt.show()"
   ]
  },
  {
   "cell_type": "code",
   "execution_count": 20,
   "metadata": {},
   "outputs": [],
   "source": [
    "y_pred=classifier.predict(x_test)\n",
    "y_pred =(y_pred>0.5)"
   ]
  },
  {
   "cell_type": "code",
   "execution_count": 22,
   "metadata": {},
   "outputs": [
    {
     "data": {
      "image/png": "[encoded data removed]",
      "text/plain": [
       "<Figure size 360x360 with 2 Axes>"
      ]
     },
     "metadata": {},
     "output_type": "display_data"
    }
   ],
   "source": [
    "cm_nn_1 = confusion_matrix(y_test, y_pred)\n",
    "f, ax = plt.subplots(figsize =(5,5))\n",
    "sns.heatmap(cm_nn_1,annot = True,linewidths=0.5,linecolor=\"red\",fmt = \".0f\",ax=ax)\n",
    "plt.title(\"Confusion matrix for test Data\")\n",
    "plt.xlabel(\"predicted y values\")\n",
    "plt.ylabel(\"real y values\")\n",
    "plt.show()"
   ]
  },
  {
   "cell_type": "code",
   "execution_count": 29,
   "metadata": {},
   "outputs": [],
   "source": [
    "x_train, x_test, y_train, y_test = train_test_split(X_pca, y, test_size = 0.30)  \n"
   ]
  },
  {
   "cell_type": "code",
   "execution_count": 30,
   "metadata": {},
   "outputs": [],
   "source": [
    "classifier = Sequential()\n",
    "#First Hidden Layer\n",
    "classifier.add(Dense(10, activation='tanh', kernel_initializer='random_normal', input_dim=2))\n",
    "# #Second  Hidden Layer\n",
    "classifier.add(Dense(10, activation='tanh', kernel_initializer='random_normal'))\n",
    "# # #Third  Hidden Layer\n",
    "#classifier.add(Dense(4, activation='tanh', kernel_initializer='random_normal'))\n",
    "#Output Layer\n",
    "classifier.add(Dense(1, activation='sigmoid', kernel_initializer='random_normal'))"
   ]
  },
  {
   "cell_type": "code",
   "execution_count": 31,
   "metadata": {},
   "outputs": [],
   "source": [
    "#Compiling the neural network\n",
    "classifier.compile(optimizer ='adam',loss='binary_crossentropy', metrics =['accuracy'])"
   ]
  },
  {
   "cell_type": "code",
   "execution_count": 32,
   "metadata": {},
   "outputs": [],
   "source": [
    "# Set callback functions to early stop training and save the best model so far\n",
    "callbacks = [EarlyStopping(monitor='val_loss', patience=2)]"
   ]
  },
  {
   "cell_type": "code",
   "execution_count": 33,
   "metadata": {},
   "outputs": [
    {
     "name": "stdout",
     "output_type": "stream",
     "text": [
      "Train on 29364 samples, validate on 12585 samples\n",
      "Epoch 1/30\n",
      "29364/29364 [==============================] - 2s 53us/step - loss: 0.6603 - acc: 0.6267 - val_loss: 0.6556 - val_acc: 0.6331\n",
      "Epoch 2/30\n",
      "29364/29364 [==============================] - 1s 41us/step - loss: 0.6564 - acc: 0.6322 - val_loss: 0.6551 - val_acc: 0.6347\n",
      "Epoch 3/30\n",
      "29364/29364 [==============================] - 1s 43us/step - loss: 0.6562 - acc: 0.6326 - val_loss: 0.6554 - val_acc: 0.6347\n",
      "Epoch 4/30\n",
      "29364/29364 [==============================] - 1s 42us/step - loss: 0.6560 - acc: 0.6326 - val_loss: 0.6547 - val_acc: 0.6347\n",
      "Epoch 5/30\n",
      "29364/29364 [==============================] - 1s 42us/step - loss: 0.6561 - acc: 0.6326 - val_loss: 0.6546 - val_acc: 0.6347\n",
      "Epoch 6/30\n",
      "29364/29364 [==============================] - 1s 42us/step - loss: 0.6560 - acc: 0.6326 - val_loss: 0.6546 - val_acc: 0.6347\n",
      "Epoch 7/30\n",
      "29364/29364 [==============================] - 1s 43us/step - loss: 0.6561 - acc: 0.6326 - val_loss: 0.6546 - val_acc: 0.6347\n",
      "Epoch 8/30\n",
      "29364/29364 [==============================] - 1s 43us/step - loss: 0.6559 - acc: 0.6326 - val_loss: 0.6559 - val_acc: 0.6347\n",
      "Epoch 9/30\n",
      "29364/29364 [==============================] - 1s 42us/step - loss: 0.6559 - acc: 0.6326 - val_loss: 0.6550 - val_acc: 0.6347\n"
     ]
    }
   ],
   "source": [
    "#Fitting the data to the training dataset\n",
    "model_2 =classifier.fit(x_train,y_train,epochs=30,callbacks=callbacks,batch_size =32,validation_data=(x_test, y_test))"
   ]
  },
  {
   "cell_type": "code",
   "execution_count": 34,
   "metadata": {},
   "outputs": [
    {
     "data": {
      "image/png": "[encoded data removed]",
      "text/plain": [
       "<Figure size 432x288 with 1 Axes>"
      ]
     },
     "metadata": {},
     "output_type": "display_data"
    }
   ],
   "source": [
    "plt.plot(model_2.history['acc'])\n",
    "plt.plot(model_2.history['val_acc'])\n",
    "plt.title('model accuracy for tanh in  Hidden Layer and Sigmoid in Output Layer')\n",
    "plt.ylabel('accuracy')\n",
    "plt.xlabel('epoch')\n",
    "plt.legend(['train', 'test'], loc='upper left')\n",
    "plt.show()"
   ]
  },
  {
   "cell_type": "code",
   "execution_count": 38,
   "metadata": {},
   "outputs": [
    {
     "data": {
      "image/png": "[encoded data removed]",
      "text/plain": [
       "<Figure size 432x288 with 1 Axes>"
      ]
     },
     "metadata": {},
     "output_type": "display_data"
    }
   ],
   "source": [
    "plt.plot(model_2.history['loss'])\n",
    "plt.plot(model_2.history['val_loss'])\n",
    "plt.title('model loss for Tanh in  Hidden Layer and Sigmoid in Output Layer')\n",
    "plt.ylabel('loss')\n",
    "plt.xlabel('epoch')\n",
    "plt.legend(['train', 'test'], loc='upper left')\n",
    "plt.show()"
   ]
  },
  {
   "cell_type": "code",
   "execution_count": 36,
   "metadata": {},
   "outputs": [],
   "source": [
    "y_pred=classifier.predict(x_test)\n",
    "y_pred =(y_pred>0.5)"
   ]
  },
  {
   "cell_type": "code",
   "execution_count": 37,
   "metadata": {},
   "outputs": [
    {
     "data": {
      "image/png": "[encoded data removed]",
      "text/plain": [
       "<Figure size 360x360 with 2 Axes>"
      ]
     },
     "metadata": {},
     "output_type": "display_data"
    }
   ],
   "source": [
    "cm_nn_1 = confusion_matrix(y_test, y_pred)\n",
    "f, ax = plt.subplots(figsize =(5,5))\n",
    "sns.heatmap(cm_nn_1,annot = True,linewidths=0.5,linecolor=\"red\",fmt = \".0f\",ax=ax)\n",
    "plt.title(\"Confusion matrix for test Data\")\n",
    "plt.xlabel(\"predicted y values\")\n",
    "plt.ylabel(\"real y values\")\n",
    "plt.show()"
   ]
  },
  {
   "cell_type": "code",
   "execution_count": 13,
   "metadata": {},
   "outputs": [],
   "source": [
    "x_train, x_test, y_train, y_test = train_test_split(X_ICA, y, test_size = 0.30)  \n"
   ]
  },
  {
   "cell_type": "code",
   "execution_count": 14,
   "metadata": {},
   "outputs": [
    {
     "name": "stdout",
     "output_type": "stream",
     "text": [
      "WARNING:tensorflow:From C:\\Users\\vishi\\Anaconda3\\lib\\site-packages\\tensorflow\\python\\framework\\op_def_library.py:263: colocate_with (from tensorflow.python.framework.ops) is deprecated and will be removed in a future version.\n",
      "Instructions for updating:\n",
      "Colocations handled automatically by placer.\n"
     ]
    }
   ],
   "source": [
    "classifier = Sequential()\n",
    "#First Hidden Layer\n",
    "classifier.add(Dense(10, activation='tanh', kernel_initializer='random_normal', input_dim=2))\n",
    "# #Second  Hidden Layer\n",
    "classifier.add(Dense(10, activation='tanh', kernel_initializer='random_normal'))\n",
    "# # #Third  Hidden Layer\n",
    "#classifier.add(Dense(4, activation='tanh', kernel_initializer='random_normal'))\n",
    "#Output Layer\n",
    "classifier.add(Dense(1, activation='sigmoid', kernel_initializer='random_normal'))"
   ]
  },
  {
   "cell_type": "code",
   "execution_count": 15,
   "metadata": {},
   "outputs": [],
   "source": [
    "#Compiling the neural network\n",
    "classifier.compile(optimizer ='adam',loss='binary_crossentropy', metrics =['accuracy'])"
   ]
  },
  {
   "cell_type": "code",
   "execution_count": 16,
   "metadata": {},
   "outputs": [],
   "source": [
    "# Set callback functions to early stop training and save the best model so far\n",
    "callbacks = [EarlyStopping(monitor='val_loss', patience=2)]"
   ]
  },
  {
   "cell_type": "code",
   "execution_count": 17,
   "metadata": {},
   "outputs": [
    {
     "name": "stdout",
     "output_type": "stream",
     "text": [
      "WARNING:tensorflow:From C:\\Users\\vishi\\Anaconda3\\lib\\site-packages\\tensorflow\\python\\ops\\math_ops.py:3066: to_int32 (from tensorflow.python.ops.math_ops) is deprecated and will be removed in a future version.\n",
      "Instructions for updating:\n",
      "Use tf.cast instead.\n",
      "Train on 29364 samples, validate on 12585 samples\n",
      "Epoch 1/30\n",
      "29364/29364 [==============================] - 2s 76us/step - loss: 0.6892 - acc: 0.5461 - val_loss: 0.6881 - val_acc: 0.5484\n",
      "Epoch 2/30\n",
      "29364/29364 [==============================] - 2s 57us/step - loss: 0.6880 - acc: 0.5463 - val_loss: 0.6862 - val_acc: 0.5507\n",
      "Epoch 3/30\n",
      "29364/29364 [==============================] - 1s 50us/step - loss: 0.6812 - acc: 0.5648 - val_loss: 0.6727 - val_acc: 0.6308\n",
      "Epoch 4/30\n",
      "29364/29364 [==============================] - 2s 54us/step - loss: 0.6608 - acc: 0.6145 - val_loss: 0.6487 - val_acc: 0.6257\n",
      "Epoch 5/30\n",
      "29364/29364 [==============================] - 2s 55us/step - loss: 0.6523 - acc: 0.6340 - val_loss: 0.6461 - val_acc: 0.6302\n",
      "Epoch 6/30\n",
      "29364/29364 [==============================] - 2s 58us/step - loss: 0.6499 - acc: 0.6374 - val_loss: 0.6435 - val_acc: 0.6408\n",
      "Epoch 7/30\n",
      "29364/29364 [==============================] - 1s 51us/step - loss: 0.6489 - acc: 0.6383 - val_loss: 0.6426 - val_acc: 0.6455\n",
      "Epoch 8/30\n",
      "29364/29364 [==============================] - 2s 57us/step - loss: 0.6476 - acc: 0.6391 - val_loss: 0.6428 - val_acc: 0.6323\n",
      "Epoch 9/30\n",
      "29364/29364 [==============================] - 2s 53us/step - loss: 0.6469 - acc: 0.6380 - val_loss: 0.6405 - val_acc: 0.6400\n",
      "Epoch 10/30\n",
      "29364/29364 [==============================] - 2s 52us/step - loss: 0.6456 - acc: 0.6386 - val_loss: 0.6424 - val_acc: 0.6605\n",
      "Epoch 11/30\n",
      "29364/29364 [==============================] - 1s 39us/step - loss: 0.6439 - acc: 0.6418 - val_loss: 0.6380 - val_acc: 0.6400\n",
      "Epoch 12/30\n",
      "29364/29364 [==============================] - 1s 39us/step - loss: 0.6427 - acc: 0.6421 - val_loss: 0.6404 - val_acc: 0.6626\n",
      "Epoch 13/30\n",
      "29364/29364 [==============================] - 1s 40us/step - loss: 0.6409 - acc: 0.6434 - val_loss: 0.6354 - val_acc: 0.6479\n",
      "Epoch 14/30\n",
      "29364/29364 [==============================] - 1s 40us/step - loss: 0.6392 - acc: 0.6466 - val_loss: 0.6343 - val_acc: 0.6586\n",
      "Epoch 15/30\n",
      "29364/29364 [==============================] - 1s 46us/step - loss: 0.6372 - acc: 0.6490 - val_loss: 0.6328 - val_acc: 0.6584\n",
      "Epoch 16/30\n",
      "29364/29364 [==============================] - 1s 49us/step - loss: 0.6359 - acc: 0.6514 - val_loss: 0.6313 - val_acc: 0.6605\n",
      "Epoch 17/30\n",
      "29364/29364 [==============================] - 1s 47us/step - loss: 0.6348 - acc: 0.6541 - val_loss: 0.6294 - val_acc: 0.6602\n",
      "Epoch 18/30\n",
      "29364/29364 [==============================] - 2s 54us/step - loss: 0.6326 - acc: 0.6569 - val_loss: 0.6310 - val_acc: 0.6664\n",
      "Epoch 19/30\n",
      "29364/29364 [==============================] - 1s 43us/step - loss: 0.6311 - acc: 0.6579 - val_loss: 0.6273 - val_acc: 0.6646\n",
      "Epoch 20/30\n",
      "29364/29364 [==============================] - 1s 45us/step - loss: 0.6297 - acc: 0.6588 - val_loss: 0.6254 - val_acc: 0.6619\n",
      "Epoch 21/30\n",
      "29364/29364 [==============================] - 1s 44us/step - loss: 0.6280 - acc: 0.6620 - val_loss: 0.6243 - val_acc: 0.6646\n",
      "Epoch 22/30\n",
      "29364/29364 [==============================] - 1s 49us/step - loss: 0.6278 - acc: 0.6614 - val_loss: 0.6234 - val_acc: 0.6648\n",
      "Epoch 23/30\n",
      "29364/29364 [==============================] - 1s 45us/step - loss: 0.6268 - acc: 0.6632 - val_loss: 0.6242 - val_acc: 0.6638\n",
      "Epoch 24/30\n",
      "29364/29364 [==============================] - 1s 51us/step - loss: 0.6260 - acc: 0.6638 - val_loss: 0.6222 - val_acc: 0.6660\n",
      "Epoch 25/30\n",
      "29364/29364 [==============================] - 1s 50us/step - loss: 0.6251 - acc: 0.6629 - val_loss: 0.6224 - val_acc: 0.6672\n",
      "Epoch 26/30\n",
      "29364/29364 [==============================] - 1s 51us/step - loss: 0.6248 - acc: 0.6651 - val_loss: 0.6209 - val_acc: 0.6687\n",
      "Epoch 27/30\n",
      "29364/29364 [==============================] - 1s 51us/step - loss: 0.6242 - acc: 0.6658 - val_loss: 0.6206 - val_acc: 0.6675\n",
      "Epoch 28/30\n",
      "29364/29364 [==============================] - 1s 50us/step - loss: 0.6238 - acc: 0.6648 - val_loss: 0.6205 - val_acc: 0.6683\n",
      "Epoch 29/30\n",
      "29364/29364 [==============================] - 1s 47us/step - loss: 0.6234 - acc: 0.6651 - val_loss: 0.6198 - val_acc: 0.6714\n",
      "Epoch 30/30\n",
      "29364/29364 [==============================] - 1s 50us/step - loss: 0.6231 - acc: 0.6659 - val_loss: 0.6200 - val_acc: 0.6690\n"
     ]
    }
   ],
   "source": [
    "#Fitting the data to the training dataset\n",
    "model_2 =classifier.fit(x_train,y_train,epochs=30,callbacks=callbacks,batch_size =32,validation_data=(x_test, y_test))"
   ]
  },
  {
   "cell_type": "code",
   "execution_count": 18,
   "metadata": {},
   "outputs": [
    {
     "data": {
      "image/png": "[encoded data removed]",
      "text/plain": [
       "<Figure size 432x288 with 1 Axes>"
      ]
     },
     "metadata": {},
     "output_type": "display_data"
    }
   ],
   "source": [
    "plt.plot(model_2.history['acc'])\n",
    "plt.plot(model_2.history['val_acc'])\n",
    "plt.title('model accuracy for tanh in  Hidden Layer and Sigmoid in Output Layer')\n",
    "plt.ylabel('accuracy')\n",
    "plt.xlabel('epoch')\n",
    "plt.legend(['train', 'test'], loc='upper left')\n",
    "plt.show()"
   ]
  },
  {
   "cell_type": "code",
   "execution_count": 19,
   "metadata": {},
   "outputs": [
    {
     "data": {
      "image/png": "[encoded data removed]",
      "text/plain": [
       "<Figure size 432x288 with 1 Axes>"
      ]
     },
     "metadata": {},
     "output_type": "display_data"
    }
   ],
   "source": [
    "plt.plot(model_2.history['loss'])\n",
    "plt.plot(model_2.history['val_loss'])\n",
    "plt.title('model loss for Tanh in  Hidden Layer and Sigmoid in Output Layer')\n",
    "plt.ylabel('loss')\n",
    "plt.xlabel('epoch')\n",
    "plt.legend(['train', 'test'], loc='upper left')\n",
    "plt.show()"
   ]
  },
  {
   "cell_type": "code",
   "execution_count": 21,
   "metadata": {},
   "outputs": [
    {
     "data": {
      "image/png": "[encoded data removed]",
      "text/plain": [
       "<Figure size 360x360 with 2 Axes>"
      ]
     },
     "metadata": {},
     "output_type": "display_data"
    }
   ],
   "source": [
    "y_pred=classifier.predict(x_test)\n",
    "y_pred =(y_pred>0.5)\n",
    "cm_nn_1 = confusion_matrix(y_test, y_pred)\n",
    "f, ax = plt.subplots(figsize =(5,5))\n",
    "sns.heatmap(cm_nn_1,annot = True,linewidths=0.5,linecolor=\"red\",fmt = \".0f\",ax=ax)\n",
    "plt.title(\"Confusion matrix for test Data\")\n",
    "plt.xlabel(\"predicted y values\")\n",
    "plt.ylabel(\"real y values\")\n",
    "plt.show()"
   ]
  },
  {
   "cell_type": "code",
   "execution_count": 81,
   "metadata": {},
   "outputs": [],
   "source": [
    "x_train, x_test, y_train, y_test = train_test_split(X_grd, y, test_size = 0.30)  \n"
   ]
  },
  {
   "cell_type": "code",
   "execution_count": 82,
   "metadata": {},
   "outputs": [],
   "source": [
    "classifier = Sequential()\n",
    "#First Hidden Layer\n",
    "classifier.add(Dense(10, activation='tanh', kernel_initializer='random_normal', input_dim=2))\n",
    "# #Second  Hidden Layer\n",
    "classifier.add(Dense(10, activation='tanh', kernel_initializer='random_normal'))\n",
    "# # #Third  Hidden Layer\n",
    "#classifier.add(Dense(4, activation='tanh', kernel_initializer='random_normal'))\n",
    "#Output Layer\n",
    "classifier.add(Dense(1, activation='sigmoid', kernel_initializer='random_normal'))"
   ]
  },
  {
   "cell_type": "code",
   "execution_count": 83,
   "metadata": {},
   "outputs": [],
   "source": [
    "#Compiling the neural network\n",
    "classifier.compile(optimizer ='adam',loss='binary_crossentropy', metrics =['accuracy'])"
   ]
  },
  {
   "cell_type": "code",
   "execution_count": 84,
   "metadata": {},
   "outputs": [],
   "source": [
    "# Set callback functions to early stop training and save the best model so far\n",
    "callbacks = [EarlyStopping(monitor='val_loss', patience=2)]"
   ]
  },
  {
   "cell_type": "code",
   "execution_count": 85,
   "metadata": {},
   "outputs": [
    {
     "name": "stdout",
     "output_type": "stream",
     "text": [
      "Train on 29364 samples, validate on 12585 samples\n",
      "Epoch 1/30\n",
      "29364/29364 [==============================] - 3s 118us/step - loss: 0.6890 - acc: 0.5446 - val_loss: 0.6882 - val_acc: 0.5504\n",
      "Epoch 2/30\n",
      "29364/29364 [==============================] - 2s 76us/step - loss: 0.6885 - acc: 0.5453 - val_loss: 0.6883 - val_acc: 0.5504\n",
      "Epoch 3/30\n",
      "29364/29364 [==============================] - 2s 76us/step - loss: 0.6887 - acc: 0.5447 - val_loss: 0.6877 - val_acc: 0.5504\n",
      "Epoch 4/30\n",
      "29364/29364 [==============================] - 2s 77us/step - loss: 0.6879 - acc: 0.5492 - val_loss: 0.6869 - val_acc: 0.5554\n",
      "Epoch 5/30\n",
      "29364/29364 [==============================] - 2s 79us/step - loss: 0.6874 - acc: 0.5482 - val_loss: 0.6871 - val_acc: 0.5484\n",
      "Epoch 6/30\n",
      "29364/29364 [==============================] - 2s 79us/step - loss: 0.6875 - acc: 0.5491 - val_loss: 0.6872 - val_acc: 0.5467\n"
     ]
    }
   ],
   "source": [
    "#Fitting the data to the training dataset\n",
    "model_2 =classifier.fit(x_train,y_train,epochs=30,callbacks=callbacks,batch_size =32,validation_data=(x_test, y_test))"
   ]
  },
  {
   "cell_type": "markdown",
   "metadata": {},
   "source": [
    "# K means neural Network"
   ]
  },
  {
   "cell_type": "code",
   "execution_count": 55,
   "metadata": {},
   "outputs": [],
   "source": [
    "x = labels_pred\n",
    "x_train, x_test, y_train, y_test = train_test_split(x, y, test_size = 0.30)  "
   ]
  },
  {
   "cell_type": "code",
   "execution_count": 56,
   "metadata": {},
   "outputs": [],
   "source": [
    "classifier = Sequential()\n",
    "#First Hidden Layer\n",
    "classifier.add(Dense(10, activation='tanh', kernel_initializer='random_normal', input_dim=1))\n",
    "# #Second  Hidden Layer\n",
    "classifier.add(Dense(10, activation='tanh', kernel_initializer='random_normal'))\n",
    "# # #Third  Hidden Layer\n",
    "#classifier.add(Dense(10, activation='relu', kernel_initializer='random_normal'))\n",
    "#Output Layer\n",
    "classifier.add(Dense(1, activation='sigmoid', kernel_initializer='random_normal'))"
   ]
  },
  {
   "cell_type": "code",
   "execution_count": 57,
   "metadata": {},
   "outputs": [],
   "source": [
    "#Compiling the neural network\n",
    "classifier.compile(optimizer ='adam',loss='binary_crossentropy', metrics =['accuracy'])"
   ]
  },
  {
   "cell_type": "code",
   "execution_count": 58,
   "metadata": {},
   "outputs": [],
   "source": [
    "# Set callback functions to early stop training and save the best model so far\n",
    "callbacks = [EarlyStopping(monitor='val_loss', patience=2)]\n"
   ]
  },
  {
   "cell_type": "code",
   "execution_count": 59,
   "metadata": {},
   "outputs": [
    {
     "name": "stdout",
     "output_type": "stream",
     "text": [
      "Train on 29364 samples, validate on 12585 samples\n",
      "Epoch 1/30\n",
      "29364/29364 [==============================] - 2s 73us/step - loss: 0.6891 - acc: 0.5468 - val_loss: 0.6901 - val_acc: 0.5443\n",
      "Epoch 2/30\n",
      "29364/29364 [==============================] - 2s 57us/step - loss: 0.6887 - acc: 0.5478 - val_loss: 0.6894 - val_acc: 0.5443\n",
      "Epoch 3/30\n",
      "29364/29364 [==============================] - 2s 57us/step - loss: 0.6887 - acc: 0.5478 - val_loss: 0.6897 - val_acc: 0.5443\n",
      "Epoch 4/30\n",
      "29364/29364 [==============================] - 2s 59us/step - loss: 0.6887 - acc: 0.5478 - val_loss: 0.6893 - val_acc: 0.5443\n",
      "Epoch 5/30\n",
      "29364/29364 [==============================] - 2s 60us/step - loss: 0.6886 - acc: 0.5478 - val_loss: 0.6894 - val_acc: 0.5443\n",
      "Epoch 6/30\n",
      "29364/29364 [==============================] - 2s 55us/step - loss: 0.6886 - acc: 0.5478 - val_loss: 0.6893 - val_acc: 0.5443\n",
      "Epoch 7/30\n",
      "29364/29364 [==============================] - 2s 60us/step - loss: 0.6887 - acc: 0.5478 - val_loss: 0.6895 - val_acc: 0.5443\n",
      "Epoch 8/30\n",
      "29364/29364 [==============================] - 2s 59us/step - loss: 0.6886 - acc: 0.5478 - val_loss: 0.6896 - val_acc: 0.5443\n"
     ]
    }
   ],
   "source": [
    "#Fitting the data to the training dataset\n",
    "model_2 =classifier.fit(x_train,y_train,epochs=30,callbacks=callbacks,batch_size =32,validation_data=(x_test, y_test))"
   ]
  },
  {
   "cell_type": "code",
   "execution_count": 60,
   "metadata": {},
   "outputs": [
    {
     "data": {
      "image/png": "[encoded data removed]",
      "text/plain": [
       "<Figure size 432x288 with 1 Axes>"
      ]
     },
     "metadata": {},
     "output_type": "display_data"
    }
   ],
   "source": [
    "plt.plot(model_2.history['acc'])\n",
    "plt.plot(model_2.history['val_acc'])\n",
    "plt.title('model accuracy for tanh in  Hidden Layer and Sigmoid in Output Layer')\n",
    "plt.ylabel('accuracy')\n",
    "plt.xlabel('epoch')\n",
    "plt.legend(['train', 'test'], loc='upper left')\n",
    "plt.show()"
   ]
  },
  {
   "cell_type": "code",
   "execution_count": 61,
   "metadata": {},
   "outputs": [
    {
     "data": {
      "image/png": "[encoded data removed]",
      "text/plain": [
       "<Figure size 432x288 with 1 Axes>"
      ]
     },
     "metadata": {},
     "output_type": "display_data"
    }
   ],
   "source": [
    "plt.plot(model_2.history['loss'])\n",
    "plt.plot(model_2.history['val_loss'])\n",
    "plt.title('model loss for Tanh in  Hidden Layer and Sigmoid in Output Layer')\n",
    "plt.ylabel('loss')\n",
    "plt.xlabel('epoch')\n",
    "plt.legend(['train', 'test'], loc='upper left')\n",
    "plt.show()"
   ]
  },
  {
   "cell_type": "code",
   "execution_count": 62,
   "metadata": {},
   "outputs": [
    {
     "data": {
      "image/png": "[encoded data removed]",
      "text/plain": [
       "<Figure size 360x360 with 2 Axes>"
      ]
     },
     "metadata": {},
     "output_type": "display_data"
    }
   ],
   "source": [
    "y_pred=classifier.predict(x_test)\n",
    "y_pred =(y_pred>0.5)\n",
    "cm_nn_1 = confusion_matrix(y_test, y_pred)\n",
    "f, ax = plt.subplots(figsize =(5,5))\n",
    "sns.heatmap(cm_nn_1,annot = True,linewidths=0.5,linecolor=\"red\",fmt = \".0f\",ax=ax)\n",
    "plt.title(\"Confusion matrix for test Data\")\n",
    "plt.xlabel(\"predicted y values\")\n",
    "plt.ylabel(\"real y values\")\n",
    "plt.show()"
   ]
  },
  {
   "cell_type": "markdown",
   "metadata": {},
   "source": [
    "# Dataset 2"
   ]
  },
  {
   "cell_type": "code",
   "execution_count": 16,
   "metadata": {},
   "outputs": [
    {
     "data": {
      "text/html": [
       "<div>\n",
       "<style scoped>\n",
       "    .dataframe tbody tr th:only-of-type {\n",
       "        vertical-align: middle;\n",
       "    }\n",
       "\n",
       "    .dataframe tbody tr th {\n",
       "        vertical-align: top;\n",
       "    }\n",
       "\n",
       "    .dataframe thead th {\n",
       "        text-align: right;\n",
       "    }\n",
       "</style>\n",
       "<table border=\"1\" class=\"dataframe\">\n",
       "  <thead>\n",
       "    <tr style=\"text-align: right;\">\n",
       "      <th></th>\n",
       "      <th>Serial No.</th>\n",
       "      <th>GRE Score</th>\n",
       "      <th>TOEFL Score</th>\n",
       "      <th>University Rating</th>\n",
       "      <th>SOP</th>\n",
       "      <th>LOR</th>\n",
       "      <th>CGPA</th>\n",
       "      <th>Research</th>\n",
       "      <th>Work Exp</th>\n",
       "      <th>Age</th>\n",
       "      <th>Volunteer/Leadership</th>\n",
       "      <th>Sports</th>\n",
       "      <th>Certificates/Awards</th>\n",
       "      <th>Languages</th>\n",
       "      <th>NGO</th>\n",
       "      <th>Chance of Admit</th>\n",
       "    </tr>\n",
       "  </thead>\n",
       "  <tbody>\n",
       "    <tr>\n",
       "      <th>0</th>\n",
       "      <td>1</td>\n",
       "      <td>337</td>\n",
       "      <td>118</td>\n",
       "      <td>4</td>\n",
       "      <td>4.5</td>\n",
       "      <td>4.5</td>\n",
       "      <td>9.65</td>\n",
       "      <td>1</td>\n",
       "      <td>8</td>\n",
       "      <td>29</td>\n",
       "      <td>1</td>\n",
       "      <td>1</td>\n",
       "      <td>21</td>\n",
       "      <td>2</td>\n",
       "      <td>1</td>\n",
       "      <td>0.92</td>\n",
       "    </tr>\n",
       "    <tr>\n",
       "      <th>1</th>\n",
       "      <td>2</td>\n",
       "      <td>324</td>\n",
       "      <td>107</td>\n",
       "      <td>4</td>\n",
       "      <td>4.0</td>\n",
       "      <td>4.5</td>\n",
       "      <td>8.87</td>\n",
       "      <td>1</td>\n",
       "      <td>0</td>\n",
       "      <td>29</td>\n",
       "      <td>1</td>\n",
       "      <td>1</td>\n",
       "      <td>25</td>\n",
       "      <td>3</td>\n",
       "      <td>1</td>\n",
       "      <td>0.76</td>\n",
       "    </tr>\n",
       "    <tr>\n",
       "      <th>2</th>\n",
       "      <td>3</td>\n",
       "      <td>316</td>\n",
       "      <td>104</td>\n",
       "      <td>3</td>\n",
       "      <td>3.0</td>\n",
       "      <td>3.5</td>\n",
       "      <td>8.00</td>\n",
       "      <td>1</td>\n",
       "      <td>10</td>\n",
       "      <td>23</td>\n",
       "      <td>1</td>\n",
       "      <td>1</td>\n",
       "      <td>13</td>\n",
       "      <td>5</td>\n",
       "      <td>1</td>\n",
       "      <td>0.72</td>\n",
       "    </tr>\n",
       "    <tr>\n",
       "      <th>3</th>\n",
       "      <td>4</td>\n",
       "      <td>322</td>\n",
       "      <td>110</td>\n",
       "      <td>3</td>\n",
       "      <td>3.5</td>\n",
       "      <td>2.5</td>\n",
       "      <td>8.67</td>\n",
       "      <td>1</td>\n",
       "      <td>8</td>\n",
       "      <td>22</td>\n",
       "      <td>1</td>\n",
       "      <td>1</td>\n",
       "      <td>16</td>\n",
       "      <td>6</td>\n",
       "      <td>1</td>\n",
       "      <td>0.80</td>\n",
       "    </tr>\n",
       "    <tr>\n",
       "      <th>4</th>\n",
       "      <td>5</td>\n",
       "      <td>314</td>\n",
       "      <td>103</td>\n",
       "      <td>2</td>\n",
       "      <td>2.0</td>\n",
       "      <td>3.0</td>\n",
       "      <td>8.21</td>\n",
       "      <td>0</td>\n",
       "      <td>6</td>\n",
       "      <td>20</td>\n",
       "      <td>0</td>\n",
       "      <td>1</td>\n",
       "      <td>4</td>\n",
       "      <td>2</td>\n",
       "      <td>1</td>\n",
       "      <td>0.65</td>\n",
       "    </tr>\n",
       "  </tbody>\n",
       "</table>\n",
       "</div>"
      ],
      "text/plain": [
       "   Serial No.  GRE Score  TOEFL Score  University Rating  SOP  LOR   CGPA  \\\n",
       "0           1        337          118                  4  4.5   4.5  9.65   \n",
       "1           2        324          107                  4  4.0   4.5  8.87   \n",
       "2           3        316          104                  3  3.0   3.5  8.00   \n",
       "3           4        322          110                  3  3.5   2.5  8.67   \n",
       "4           5        314          103                  2  2.0   3.0  8.21   \n",
       "\n",
       "   Research  Work Exp  Age  Volunteer/Leadership  Sports  Certificates/Awards  \\\n",
       "0         1         8   29                     1       1                   21   \n",
       "1         1         0   29                     1       1                   25   \n",
       "2         1        10   23                     1       1                   13   \n",
       "3         1         8   22                     1       1                   16   \n",
       "4         0         6   20                     0       1                    4   \n",
       "\n",
       "   Languages  NGO  Chance of Admit   \n",
       "0          2    1              0.92  \n",
       "1          3    1              0.76  \n",
       "2          5    1              0.72  \n",
       "3          6    1              0.80  \n",
       "4          2    1              0.65  "
      ]
     },
     "execution_count": 16,
     "metadata": {},
     "output_type": "execute_result"
    }
   ],
   "source": [
    "Dataset2 = pd.read_csv(\"Admission_Predict.csv\")\n",
    "Dataset2.head()"
   ]
  },
  {
   "cell_type": "code",
   "execution_count": 17,
   "metadata": {},
   "outputs": [
    {
     "data": {
      "text/plain": [
       "RangeIndex(start=0, stop=5203, step=1)"
      ]
     },
     "execution_count": 17,
     "metadata": {},
     "output_type": "execute_result"
    }
   ],
   "source": [
    "Dataset2 = pd.DataFrame(Dataset2)\n",
    "Dataset2.columns = Dataset2.columns.to_series().apply(lambda x: x.strip())\n",
    "Dataset2['Admit'] = [1 if each > 0.60 else 0 for each in Dataset2['Chance of Admit']]\n",
    "Dataset2.reset_index()\n",
    "y2 = Dataset2['Admit'].values\n",
    "X2 = Dataset2.drop(['Admit','Chance of Admit'],axis = 1)\n",
    "N_rows = Dataset2.shape[0] \n",
    "Dataset2.index"
   ]
  },
  {
   "cell_type": "code",
   "execution_count": 18,
   "metadata": {},
   "outputs": [],
   "source": [
    "mms = MinMaxScaler()\n",
    "mms.fit(X2)\n",
    "data_transformed_2 = mms.transform(X2)"
   ]
  },
  {
   "cell_type": "markdown",
   "metadata": {},
   "source": [
    "# K means Implementation"
   ]
  },
  {
   "cell_type": "code",
   "execution_count": 25,
   "metadata": {},
   "outputs": [],
   "source": [
    "from sklearn.cluster import KMeans\n",
    "Sum_of_squared_distances = []\n",
    "K = range(1,40)\n",
    "for k in K:\n",
    "    km = KMeans(n_clusters=k,random_state = 131)\n",
    "    km = km.fit(data_transformed_2)\n",
    "    Sum_of_squared_distances.append(km.inertia_)"
   ]
  },
  {
   "cell_type": "code",
   "execution_count": 26,
   "metadata": {},
   "outputs": [
    {
     "data": {
      "image/png": "[encoded data removed]",
      "text/plain": [
       "<Figure size 432x288 with 1 Axes>"
      ]
     },
     "metadata": {},
     "output_type": "display_data"
    }
   ],
   "source": [
    "plt.plot(K, Sum_of_squared_distances, 'rx-')\n",
    "plt.xlabel('k')\n",
    "plt.ylabel('Sum_of_squared_distances')\n",
    "plt.title('Elbow Method For Optimal k')\n",
    "plt.show()"
   ]
  },
  {
   "cell_type": "code",
   "execution_count": 27,
   "metadata": {},
   "outputs": [],
   "source": [
    "kmeans = KMeans(n_clusters=16,random_state = 131)  \n",
    "kmeans_model = kmeans.fit(data_transformed_2) \n",
    "labels_pred =  kmeans.predict(data_transformed_2)\n",
    "labels = kmeans_model.labels_\n"
   ]
  },
  {
   "cell_type": "code",
   "execution_count": 66,
   "metadata": {},
   "outputs": [
    {
     "data": {
      "text/plain": [
       "0.016522091804848274"
      ]
     },
     "execution_count": 66,
     "metadata": {},
     "output_type": "execute_result"
    }
   ],
   "source": [
    "from sklearn import metrics\n",
    "metrics.homogeneity_score(y2, labels_pred)"
   ]
  },
  {
   "cell_type": "code",
   "execution_count": 67,
   "metadata": {},
   "outputs": [
    {
     "data": {
      "text/plain": [
       "0.004103919580855248"
      ]
     },
     "execution_count": 67,
     "metadata": {},
     "output_type": "execute_result"
    }
   ],
   "source": [
    "metrics.completeness_score(y2, labels_pred) "
   ]
  },
  {
   "cell_type": "code",
   "execution_count": 68,
   "metadata": {},
   "outputs": [
    {
     "data": {
      "text/plain": [
       "0.0024242157454416186"
      ]
     },
     "execution_count": 68,
     "metadata": {},
     "output_type": "execute_result"
    }
   ],
   "source": [
    "metrics.adjusted_rand_score(y2, labels_pred)"
   ]
  },
  {
   "cell_type": "code",
   "execution_count": 69,
   "metadata": {},
   "outputs": [
    {
     "data": {
      "text/plain": [
       "0.003584076409034368"
      ]
     },
     "execution_count": 69,
     "metadata": {},
     "output_type": "execute_result"
    }
   ],
   "source": [
    "metrics.adjusted_mutual_info_score(y2, labels_pred)"
   ]
  },
  {
   "cell_type": "code",
   "execution_count": 70,
   "metadata": {},
   "outputs": [
    {
     "data": {
      "text/plain": [
       "0.008234399557624396"
      ]
     },
     "execution_count": 70,
     "metadata": {},
     "output_type": "execute_result"
    }
   ],
   "source": [
    "metrics.normalized_mutual_info_score(y2, labels_pred)  "
   ]
  },
  {
   "cell_type": "code",
   "execution_count": 71,
   "metadata": {},
   "outputs": [
    {
     "data": {
      "text/plain": [
       "0.18885607280697075"
      ]
     },
     "execution_count": 71,
     "metadata": {},
     "output_type": "execute_result"
    }
   ],
   "source": [
    "metrics.silhouette_score(data_transformed_2, labels, metric='euclidean')"
   ]
  },
  {
   "cell_type": "code",
   "execution_count": 58,
   "metadata": {},
   "outputs": [],
   "source": [
    "# EM implementation - Dataset2"
   ]
  },
  {
   "cell_type": "code",
   "execution_count": 76,
   "metadata": {},
   "outputs": [
    {
     "data": {
      "image/png": "[encoded data removed]",
      "text/plain": [
       "<Figure size 432x288 with 1 Axes>"
      ]
     },
     "metadata": {},
     "output_type": "display_data"
    }
   ],
   "source": [
    "from sklearn.mixture import GaussianMixture\n",
    "from sklearn.mixture import GMM\n",
    "n_components = np.arange(1, 20)\n",
    "models = [GMM(n, covariance_type='full', random_state=131).fit(data_transformed_2)\n",
    "          for n in n_components]\n",
    "\n",
    "plt.plot(n_components, [m.bic(data_transformed_2) for m in models], label='BIC')\n",
    "plt.plot(n_components, [m.aic(data_transformed_2) for m in models], label='AIC')\n",
    "plt.legend(loc='best')\n",
    "plt.xlabel('n_components');"
   ]
  },
  {
   "cell_type": "code",
   "execution_count": 73,
   "metadata": {},
   "outputs": [],
   "source": [
    "gmm = GMM(n_components=12).fit(data_transformed_2)\n",
    "labels_gmm = gmm.predict(data_transformed_2)"
   ]
  },
  {
   "cell_type": "code",
   "execution_count": 74,
   "metadata": {},
   "outputs": [
    {
     "data": {
      "text/plain": [
       "0.0037518001736421723"
      ]
     },
     "execution_count": 74,
     "metadata": {},
     "output_type": "execute_result"
    }
   ],
   "source": [
    "metrics.completeness_score(y2, labels_gmm) "
   ]
  },
  {
   "cell_type": "code",
   "execution_count": 75,
   "metadata": {},
   "outputs": [
    {
     "data": {
      "text/plain": [
       "0.003063565671485181"
      ]
     },
     "execution_count": 75,
     "metadata": {},
     "output_type": "execute_result"
    }
   ],
   "source": [
    "metrics.adjusted_rand_score(y2, labels_gmm)"
   ]
  },
  {
   "cell_type": "code",
   "execution_count": 76,
   "metadata": {},
   "outputs": [
    {
     "data": {
      "text/plain": [
       "0.003319794159833083"
      ]
     },
     "execution_count": 76,
     "metadata": {},
     "output_type": "execute_result"
    }
   ],
   "source": [
    "metrics.adjusted_mutual_info_score(y2, labels_gmm)"
   ]
  },
  {
   "cell_type": "code",
   "execution_count": 78,
   "metadata": {},
   "outputs": [
    {
     "data": {
      "text/plain": [
       "0.14504329254201986"
      ]
     },
     "execution_count": 78,
     "metadata": {},
     "output_type": "execute_result"
    }
   ],
   "source": [
    "metrics.silhouette_score(data_transformed_2, labels_gmm, metric='euclidean')"
   ]
  },
  {
   "cell_type": "code",
   "execution_count": 79,
   "metadata": {},
   "outputs": [
    {
     "data": {
      "text/plain": [
       "0.016522091804848274"
      ]
     },
     "execution_count": 79,
     "metadata": {},
     "output_type": "execute_result"
    }
   ],
   "source": [
    "metrics.homogeneity_score(y2, labels_pred)"
   ]
  },
  {
   "cell_type": "markdown",
   "metadata": {},
   "source": [
    "# Decsion Tree Implementation"
   ]
  },
  {
   "cell_type": "code",
   "execution_count": 19,
   "metadata": {},
   "outputs": [],
   "source": [
    "x2_train, x2_test, y2_train, y2_test = train_test_split(X2, y2, test_size = 0.30)\n",
    "\n",
    "scalerX = MinMaxScaler(feature_range=(0, 1))\n",
    "x2_train[x2_train.columns] = scalerX.fit_transform(x2_train[x2_train.columns])\n",
    "x2_test[x2_test.columns] = scalerX.transform(x2_test[x2_test.columns])"
   ]
  },
  {
   "cell_type": "code",
   "execution_count": 106,
   "metadata": {},
   "outputs": [
    {
     "name": "stdout",
     "output_type": "stream",
     "text": [
      "score:  0.5547725816784113\n"
     ]
    }
   ],
   "source": [
    "from sklearn.tree import DecisionTreeClassifier\n",
    "dtc = DecisionTreeClassifier(criterion = \"entropy\",random_state=0)\n",
    "dtc.fit(x2_train,y2_train)\n",
    "print(\"score: \", accuracy_score(y2_test,dtc.predict(x2_test)))"
   ]
  },
  {
   "cell_type": "code",
   "execution_count": 84,
   "metadata": {},
   "outputs": [
    {
     "name": "stdout",
     "output_type": "stream",
     "text": [
      "Research: 0.009047190058519661\n",
      "Sports: 0.01521228845392787\n",
      "NGO: 0.02007086064261251\n",
      "University Rating: 0.03579434045224123\n",
      "Languages: 0.038460184414685204\n",
      "Age: 0.0402789054199653\n",
      "Work Exp: 0.04186932013881087\n",
      "Volunteer/Leadership: 0.04394635498553118\n",
      "Certificates/Awards: 0.0745555710691504\n",
      "TOEFL Score: 0.08391482946213918\n",
      "SOP: 0.08889481728107745\n",
      "GRE Score: 0.10494696170850867\n",
      "LOR: 0.10837163912652956\n",
      "CGPA: 0.13458671516338377\n",
      "Serial No.: 0.16005002162291704\n"
     ]
    }
   ],
   "source": [
    "imp_features=dict(zip(x2.columns, dtc.feature_importances_))\n",
    "for key, value in sorted(imp_features.items(), key=lambda item: item[1]):\n",
    "    print(\"%s: %s\" % (key, value))"
   ]
  },
  {
   "cell_type": "markdown",
   "metadata": {},
   "source": [
    "# PCA Implementation"
   ]
  },
  {
   "cell_type": "code",
   "execution_count": 30,
   "metadata": {},
   "outputs": [
    {
     "data": {
      "image/png": "[encoded data removed]",
      "text/plain": [
       "<Figure size 432x288 with 1 Axes>"
      ]
     },
     "metadata": {},
     "output_type": "display_data"
    }
   ],
   "source": [
    "from sklearn.decomposition import PCA\n",
    "#pca = PCA(n_components=2)\n",
    "pca = PCA().fit(X2)\n",
    "#X_pca = pca.transform(X)\n",
    "plt.figure()\n",
    "plt.plot(np.cumsum(pca.explained_variance_ratio_))\n",
    "plt.xlabel('Number of Components')\n",
    "plt.ylabel('Variance (%)') #for each component\n",
    "plt.title('Admission Dataset Explained Variance')\n",
    "plt.show()"
   ]
  },
  {
   "cell_type": "code",
   "execution_count": 31,
   "metadata": {},
   "outputs": [],
   "source": [
    "pca = PCA(n_components=5)\n",
    "X2_pca = pca.fit_transform(X2)"
   ]
  },
  {
   "cell_type": "code",
   "execution_count": 32,
   "metadata": {},
   "outputs": [
    {
     "name": "stdout",
     "output_type": "stream",
     "text": [
      "original shape:    (5203, 15)\n",
      "transformed shape: (5203, 5)\n"
     ]
    }
   ],
   "source": [
    "print(\"original shape:   \", X2.shape)\n",
    "print(\"transformed shape:\", X2_pca.shape)"
   ]
  },
  {
   "cell_type": "markdown",
   "metadata": {},
   "source": [
    "# ICA implementation"
   ]
  },
  {
   "cell_type": "code",
   "execution_count": 80,
   "metadata": {},
   "outputs": [],
   "source": [
    "from sklearn.decomposition import FastICA\n",
    "from scipy.stats import kurtosis\n",
    "ica = FastICA(n_components=5,random_state=131)\n",
    "X2_ICA = ica.fit_transform(X2_pca) \n"
   ]
  },
  {
   "cell_type": "code",
   "execution_count": 81,
   "metadata": {},
   "outputs": [
    {
     "name": "stdout",
     "output_type": "stream",
     "text": [
      "original shape:    (5203, 15)\n",
      "transformed shape: (5203, 5)\n"
     ]
    }
   ],
   "source": [
    "print(\"original shape:   \", X2.shape)\n",
    "print(\"transformed shape:\", X2_ICA.shape)"
   ]
  },
  {
   "cell_type": "markdown",
   "metadata": {},
   "source": [
    "# RP Implementation"
   ]
  },
  {
   "cell_type": "code",
   "execution_count": 20,
   "metadata": {},
   "outputs": [
    {
     "data": {
      "text/plain": [
       "array([   211,    229,    410,   7334, 689153])"
      ]
     },
     "execution_count": 20,
     "metadata": {},
     "output_type": "execute_result"
    }
   ],
   "source": [
    "from sklearn.random_projection import johnson_lindenstrauss_min_dim\n",
    "johnson_lindenstrauss_min_dim(n_samples=5203, eps=[0.9,0.8,0.5, 0.1, 0.01])"
   ]
  },
  {
   "cell_type": "code",
   "execution_count": 21,
   "metadata": {},
   "outputs": [
    {
     "name": "stdout",
     "output_type": "stream",
     "text": [
      "original shape:    (5203, 15)\n",
      "transformed shape: (5203, 15)\n"
     ]
    }
   ],
   "source": [
    "from sklearn.random_projection import GaussianRandomProjection\n",
    "GRP = GaussianRandomProjection(n_components = 15,eps = 0.5, random_state=131)\n",
    "GRP.fit(X2)\n",
    "X_grd = GRP.transform(X2)\n",
    "print(\"original shape:   \", X2.shape)\n",
    "print(\"transformed shape:\", X_grd.shape)"
   ]
  },
  {
   "cell_type": "markdown",
   "metadata": {},
   "source": [
    "# K Means after implementing PCA"
   ]
  },
  {
   "cell_type": "code",
   "execution_count": 63,
   "metadata": {},
   "outputs": [],
   "source": [
    "from sklearn.cluster import KMeans\n",
    "Sum_of_squared_distances = []\n",
    "K = range(1,20)\n",
    "for k in K:\n",
    "    km = KMeans(n_clusters=k)\n",
    "    km = km.fit(X2_pca)\n",
    "    Sum_of_squared_distances.append(km.inertia_)"
   ]
  },
  {
   "cell_type": "code",
   "execution_count": 64,
   "metadata": {},
   "outputs": [
    {
     "data": {
      "image/png": "[encoded data removed]",
      "text/plain": [
       "<Figure size 432x288 with 1 Axes>"
      ]
     },
     "metadata": {},
     "output_type": "display_data"
    }
   ],
   "source": [
    "plt.plot(K, Sum_of_squared_distances, 'rx-')\n",
    "plt.xlabel('k')\n",
    "plt.ylabel('Sum_of_squared_distances')\n",
    "plt.title('Elbow Method For Optimal k')\n",
    "plt.show()"
   ]
  },
  {
   "cell_type": "code",
   "execution_count": 71,
   "metadata": {},
   "outputs": [],
   "source": [
    "kmeans = KMeans(n_clusters=2,random_state = 131)  \n",
    "kmeans_model = kmeans.fit(X2_pca) \n",
    "labels_pred =  kmeans.predict(X2_pca)\n",
    "labels = kmeans_model.labels_"
   ]
  },
  {
   "cell_type": "code",
   "execution_count": 72,
   "metadata": {},
   "outputs": [
    {
     "data": {
      "text/plain": [
       "0.007513255052249063"
      ]
     },
     "execution_count": 72,
     "metadata": {},
     "output_type": "execute_result"
    }
   ],
   "source": [
    "metrics.homogeneity_score(y2, labels_pred)"
   ]
  },
  {
   "cell_type": "code",
   "execution_count": 73,
   "metadata": {},
   "outputs": [
    {
     "data": {
      "text/plain": [
       "0.6257768544308244"
      ]
     },
     "execution_count": 73,
     "metadata": {},
     "output_type": "execute_result"
    }
   ],
   "source": [
    "metrics.silhouette_score(X2_pca, labels_pred, metric='euclidean')"
   ]
  },
  {
   "cell_type": "markdown",
   "metadata": {},
   "source": [
    "# EM after PCA"
   ]
  },
  {
   "cell_type": "code",
   "execution_count": 75,
   "metadata": {},
   "outputs": [
    {
     "data": {
      "image/png": "[encoded data removed]",
      "text/plain": [
       "<Figure size 432x288 with 1 Axes>"
      ]
     },
     "metadata": {},
     "output_type": "display_data"
    }
   ],
   "source": [
    "from sklearn.mixture import GaussianMixture\n",
    "from sklearn.mixture import GMM\n",
    "n_components = np.arange(1, 30)\n",
    "models = [GMM(n, covariance_type='full', random_state=0).fit(X2_pca)\n",
    "          for n in n_components]\n",
    "\n",
    "plt.plot(n_components, [m.bic(X2_pca) for m in models], label='BIC')\n",
    "plt.plot(n_components, [m.aic(X2_pca) for m in models], label='AIC')\n",
    "plt.legend(loc='best')\n",
    "plt.xlabel('n_components');"
   ]
  },
  {
   "cell_type": "code",
   "execution_count": 77,
   "metadata": {},
   "outputs": [],
   "source": [
    "gmm = GMM(n_components=12).fit(X2_pca)\n",
    "labels_gmm = gmm.predict(X2_pca)"
   ]
  },
  {
   "cell_type": "code",
   "execution_count": 78,
   "metadata": {},
   "outputs": [
    {
     "data": {
      "text/plain": [
       "0.04552999817496758"
      ]
     },
     "execution_count": 78,
     "metadata": {},
     "output_type": "execute_result"
    }
   ],
   "source": [
    "metrics.homogeneity_score(y2, labels_gmm)"
   ]
  },
  {
   "cell_type": "code",
   "execution_count": 79,
   "metadata": {},
   "outputs": [
    {
     "data": {
      "text/plain": [
       "0.26030702577833353"
      ]
     },
     "execution_count": 79,
     "metadata": {},
     "output_type": "execute_result"
    }
   ],
   "source": [
    "metrics.silhouette_score(X2_pca, labels_gmm, metric='euclidean')"
   ]
  },
  {
   "cell_type": "markdown",
   "metadata": {},
   "source": [
    "# K means after ICA"
   ]
  },
  {
   "cell_type": "code",
   "execution_count": 84,
   "metadata": {},
   "outputs": [],
   "source": [
    "from sklearn.cluster import KMeans\n",
    "Sum_of_squared_distances = []\n",
    "K = range(1,30)\n",
    "for k in K:\n",
    "    km = KMeans(n_clusters=k)\n",
    "    km = km.fit(X2_ICA)\n",
    "    Sum_of_squared_distances.append(km.inertia_)"
   ]
  },
  {
   "cell_type": "code",
   "execution_count": 85,
   "metadata": {},
   "outputs": [
    {
     "data": {
      "image/png": "[encoded data removed]",
      "text/plain": [
       "<Figure size 432x288 with 1 Axes>"
      ]
     },
     "metadata": {},
     "output_type": "display_data"
    }
   ],
   "source": [
    "plt.plot(K, Sum_of_squared_distances, 'rx-')\n",
    "plt.xlabel('k')\n",
    "plt.ylabel('Sum_of_squared_distances')\n",
    "plt.title('Elbow Method For Optimal k')\n",
    "plt.show()"
   ]
  },
  {
   "cell_type": "code",
   "execution_count": 86,
   "metadata": {},
   "outputs": [],
   "source": [
    "kmeans = KMeans(n_clusters=7,random_state = 131)  \n",
    "kmeans_model = kmeans.fit(X2_ICA) \n",
    "labels_pred =  kmeans.predict(X2_ICA)\n",
    "labels = kmeans_model.labels_"
   ]
  },
  {
   "cell_type": "code",
   "execution_count": 87,
   "metadata": {},
   "outputs": [
    {
     "data": {
      "text/plain": [
       "0.010648443696027044"
      ]
     },
     "execution_count": 87,
     "metadata": {},
     "output_type": "execute_result"
    }
   ],
   "source": [
    "metrics.homogeneity_score(y2, labels_pred)"
   ]
  },
  {
   "cell_type": "code",
   "execution_count": 89,
   "metadata": {},
   "outputs": [
    {
     "data": {
      "text/plain": [
       "0.17610416378390617"
      ]
     },
     "execution_count": 89,
     "metadata": {},
     "output_type": "execute_result"
    }
   ],
   "source": [
    "metrics.silhouette_score(X2_ICA, labels, metric='euclidean')"
   ]
  },
  {
   "cell_type": "markdown",
   "metadata": {},
   "source": [
    "# EM after ICA"
   ]
  },
  {
   "cell_type": "code",
   "execution_count": 90,
   "metadata": {},
   "outputs": [
    {
     "data": {
      "image/png": "[encoded data removed]",
      "text/plain": [
       "<Figure size 432x288 with 1 Axes>"
      ]
     },
     "metadata": {},
     "output_type": "display_data"
    }
   ],
   "source": [
    "from sklearn.mixture import GaussianMixture\n",
    "from sklearn.mixture import GMM\n",
    "n_components = np.arange(1, 30)\n",
    "models = [GMM(n, covariance_type='full', random_state=0).fit(X2_ICA)\n",
    "          for n in n_components]\n",
    "\n",
    "plt.plot(n_components, [m.bic(X2_ICA) for m in models], label='BIC')\n",
    "plt.plot(n_components, [m.aic(X2_ICA) for m in models], label='AIC')\n",
    "plt.legend(loc='best')\n",
    "plt.xlabel('n_components');"
   ]
  },
  {
   "cell_type": "code",
   "execution_count": 95,
   "metadata": {},
   "outputs": [],
   "source": [
    "gmm = GMM(n_components=3).fit(X2_ICA)\n",
    "labels_gmm = gmm.predict(X2_ICA)"
   ]
  },
  {
   "cell_type": "code",
   "execution_count": 96,
   "metadata": {},
   "outputs": [
    {
     "data": {
      "text/plain": [
       "1.6149939323738716e-16"
      ]
     },
     "execution_count": 96,
     "metadata": {},
     "output_type": "execute_result"
    }
   ],
   "source": [
    "metrics.homogeneity_score(y2, labels_gmm)"
   ]
  },
  {
   "cell_type": "markdown",
   "metadata": {},
   "source": [
    "# K means after RP"
   ]
  },
  {
   "cell_type": "code",
   "execution_count": 22,
   "metadata": {},
   "outputs": [
    {
     "data": {
      "image/png": "[encoded data removed]",
      "text/plain": [
       "<Figure size 432x288 with 1 Axes>"
      ]
     },
     "metadata": {},
     "output_type": "display_data"
    }
   ],
   "source": [
    "from sklearn.cluster import KMeans\n",
    "Sum_of_squared_distances = []\n",
    "K = range(1,20)\n",
    "for k in K:\n",
    "    km = KMeans(n_clusters=k)\n",
    "    km = km.fit(X_grd)\n",
    "    Sum_of_squared_distances.append(km.inertia_)\n",
    "plt.plot(K, Sum_of_squared_distances, 'bx-')\n",
    "plt.xlabel('k')\n",
    "plt.ylabel('Sum_of_squared_distances')\n",
    "plt.title('Elbow Method For Optimal k')\n",
    "plt.show()"
   ]
  },
  {
   "cell_type": "markdown",
   "metadata": {},
   "source": [
    "# Neural Network"
   ]
  },
  {
   "cell_type": "code",
   "execution_count": 161,
   "metadata": {},
   "outputs": [],
   "source": [
    "x2_train, x2_test, y2_train, y2_test = train_test_split(X2, y2, test_size = 0.30)\n"
   ]
  },
  {
   "cell_type": "code",
   "execution_count": 162,
   "metadata": {},
   "outputs": [],
   "source": [
    "classifier = Sequential()\n",
    "#First Hidden Layer\n",
    "classifier.add(Dense(4, activation='tanh', kernel_initializer='random_normal', input_dim=15))\n",
    "#Second  Hidden Layer\n",
    "classifier.add(Dense(4, activation='tanh', kernel_initializer='random_normal'))\n",
    "#Output Layer\n",
    "\n",
    "classifier.add(Dense(1, activation='sigmoid', kernel_initializer='random_normal'))"
   ]
  },
  {
   "cell_type": "code",
   "execution_count": 163,
   "metadata": {},
   "outputs": [],
   "source": [
    "#Compiling the neural network\n",
    "classifier.compile(optimizer ='adam',loss='binary_crossentropy', metrics =['accuracy'])"
   ]
  },
  {
   "cell_type": "code",
   "execution_count": 164,
   "metadata": {},
   "outputs": [],
   "source": [
    "# Set callback functions to early stop training and save the best model so far\n",
    "callbacks = [EarlyStopping(monitor='val_loss', patience=2)]\n",
    "\n"
   ]
  },
  {
   "cell_type": "code",
   "execution_count": 165,
   "metadata": {},
   "outputs": [
    {
     "name": "stdout",
     "output_type": "stream",
     "text": [
      "Train on 3642 samples, validate on 1561 samples\n",
      "Epoch 1/30\n",
      "3642/3642 [==============================] - 1s 213us/step - loss: 0.6877 - acc: 0.5794 - val_loss: 0.6814 - val_acc: 0.6150\n",
      "Epoch 2/30\n",
      "3642/3642 [==============================] - 0s 33us/step - loss: 0.6776 - acc: 0.6060 - val_loss: 0.6749 - val_acc: 0.6015\n",
      "Epoch 3/30\n",
      "3642/3642 [==============================] - 0s 36us/step - loss: 0.6734 - acc: 0.6120 - val_loss: 0.6700 - val_acc: 0.6105\n",
      "Epoch 4/30\n",
      "3642/3642 [==============================] - 0s 34us/step - loss: 0.6697 - acc: 0.6101 - val_loss: 0.6681 - val_acc: 0.6124\n",
      "Epoch 5/30\n",
      "3642/3642 [==============================] - 0s 34us/step - loss: 0.6675 - acc: 0.6079 - val_loss: 0.6636 - val_acc: 0.6079\n",
      "Epoch 6/30\n",
      "3642/3642 [==============================] - 0s 34us/step - loss: 0.6660 - acc: 0.6076 - val_loss: 0.6639 - val_acc: 0.6105\n",
      "Epoch 7/30\n",
      "3642/3642 [==============================] - 0s 32us/step - loss: 0.6641 - acc: 0.6090 - val_loss: 0.6601 - val_acc: 0.6143\n",
      "Epoch 8/30\n",
      "3642/3642 [==============================] - 0s 34us/step - loss: 0.6629 - acc: 0.6090 - val_loss: 0.6580 - val_acc: 0.6163\n",
      "Epoch 9/30\n",
      "3642/3642 [==============================] - 0s 34us/step - loss: 0.6626 - acc: 0.6101 - val_loss: 0.6594 - val_acc: 0.6143\n",
      "Epoch 10/30\n",
      "3642/3642 [==============================] - 0s 34us/step - loss: 0.6613 - acc: 0.6107 - val_loss: 0.6580 - val_acc: 0.6124\n"
     ]
    }
   ],
   "source": [
    "#Fitting the data to the training dataset\n",
    "model =classifier.fit(x2_train,y2_train,epochs=30,callbacks=callbacks,batch_size =32,validation_data=(x2_test, y2_test))"
   ]
  },
  {
   "cell_type": "code",
   "execution_count": 166,
   "metadata": {},
   "outputs": [
    {
     "data": {
      "image/png": "[encoded data removed]",
      "text/plain": [
       "<Figure size 432x288 with 1 Axes>"
      ]
     },
     "metadata": {},
     "output_type": "display_data"
    }
   ],
   "source": [
    "plt.plot(model.history['acc'])\n",
    "plt.plot(model.history['val_acc'])\n",
    "plt.title('model accuracy for tanh in  Hidden Layer and Sigmoid in Output Layer')\n",
    "plt.ylabel('accuracy')\n",
    "plt.xlabel('epoch')\n",
    "plt.legend(['train', 'test'], loc='upper left')\n",
    "plt.show()"
   ]
  },
  {
   "cell_type": "code",
   "execution_count": 167,
   "metadata": {},
   "outputs": [
    {
     "data": {
      "image/png": "[encoded data removed]",
      "text/plain": [
       "<Figure size 432x288 with 1 Axes>"
      ]
     },
     "metadata": {},
     "output_type": "display_data"
    }
   ],
   "source": [
    "plt.plot(model.history['loss'])\n",
    "plt.plot(model.history['val_loss'])\n",
    "plt.title('model loss for Tanh in  Hidden Layer and Sigmoid in Output Layer')\n",
    "plt.ylabel('loss')\n",
    "plt.xlabel('epoch')\n",
    "plt.legend(['train', 'test'], loc='upper left')\n",
    "plt.show()"
   ]
  },
  {
   "cell_type": "code",
   "execution_count": 168,
   "metadata": {},
   "outputs": [
    {
     "data": {
      "image/png": "[encoded data removed]",
      "text/plain": [
       "<Figure size 360x360 with 2 Axes>"
      ]
     },
     "metadata": {},
     "output_type": "display_data"
    }
   ],
   "source": [
    "y_pred=classifier.predict(x2_test)\n",
    "y_pred =(y_pred>0.5)\n",
    "cm_nn_1 = confusion_matrix(y2_test, y_pred)\n",
    "f, ax = plt.subplots(figsize =(5,5))\n",
    "sns.heatmap(cm_nn_1,annot = True,linewidths=0.5,linecolor=\"red\",fmt = \".0f\",ax=ax)\n",
    "plt.title(\"Confusion matrix for test Data\")\n",
    "plt.xlabel(\"predicted y values\")\n",
    "plt.ylabel(\"real y values\")\n",
    "plt.show()"
   ]
  },
  {
   "cell_type": "markdown",
   "metadata": {},
   "source": [
    "# Neural Network After PCA"
   ]
  },
  {
   "cell_type": "code",
   "execution_count": 177,
   "metadata": {},
   "outputs": [],
   "source": [
    "x2_train, x2_test, y2_train, y2_test = train_test_split(X2_pca, y2, test_size = 0.30)\n"
   ]
  },
  {
   "cell_type": "code",
   "execution_count": 178,
   "metadata": {},
   "outputs": [],
   "source": [
    "classifier = Sequential()\n",
    "#First Hidden Layer\n",
    "classifier.add(Dense(4, activation='tanh', kernel_initializer='random_normal', input_dim=5))\n",
    "#Second  Hidden Layer\n",
    "classifier.add(Dense(4, activation='tanh', kernel_initializer='random_normal'))\n",
    "#Output Layer\n",
    "classifier.add(Dense(1, activation='sigmoid', kernel_initializer='random_normal'))"
   ]
  },
  {
   "cell_type": "code",
   "execution_count": 179,
   "metadata": {},
   "outputs": [],
   "source": [
    "#Compiling the neural network\n",
    "classifier.compile(optimizer ='adam',loss='binary_crossentropy', metrics =['accuracy'])"
   ]
  },
  {
   "cell_type": "code",
   "execution_count": 180,
   "metadata": {},
   "outputs": [],
   "source": [
    "# Set callback functions to early stop training and save the best model so far\n",
    "callbacks = [EarlyStopping(monitor='val_loss', patience=2)]\n"
   ]
  },
  {
   "cell_type": "code",
   "execution_count": 181,
   "metadata": {},
   "outputs": [
    {
     "name": "stdout",
     "output_type": "stream",
     "text": [
      "Train on 3642 samples, validate on 1561 samples\n",
      "Epoch 1/30\n",
      "3642/3642 [==============================] - 1s 234us/step - loss: 0.6901 - acc: 0.5395 - val_loss: 0.6827 - val_acc: 0.5791\n",
      "Epoch 2/30\n",
      "3642/3642 [==============================] - 0s 33us/step - loss: 0.6870 - acc: 0.5373 - val_loss: 0.6780 - val_acc: 0.5791\n",
      "Epoch 3/30\n",
      "3642/3642 [==============================] - 0s 35us/step - loss: 0.6860 - acc: 0.5376 - val_loss: 0.6762 - val_acc: 0.5772\n",
      "Epoch 4/30\n",
      "3642/3642 [==============================] - 0s 35us/step - loss: 0.6856 - acc: 0.5453 - val_loss: 0.6754 - val_acc: 0.5766\n",
      "Epoch 5/30\n",
      "3642/3642 [==============================] - 0s 36us/step - loss: 0.6852 - acc: 0.5502 - val_loss: 0.6750 - val_acc: 0.5798\n",
      "Epoch 6/30\n",
      "3642/3642 [==============================] - 0s 36us/step - loss: 0.6852 - acc: 0.5404 - val_loss: 0.6749 - val_acc: 0.5778\n",
      "Epoch 7/30\n",
      "3642/3642 [==============================] - 0s 36us/step - loss: 0.6850 - acc: 0.5450 - val_loss: 0.6751 - val_acc: 0.5701\n",
      "Epoch 8/30\n",
      "3642/3642 [==============================] - 0s 34us/step - loss: 0.6850 - acc: 0.5439 - val_loss: 0.6745 - val_acc: 0.5785\n",
      "Epoch 9/30\n",
      "3642/3642 [==============================] - 0s 35us/step - loss: 0.6848 - acc: 0.5467 - val_loss: 0.6785 - val_acc: 0.5676\n",
      "Epoch 10/30\n",
      "3642/3642 [==============================] - 0s 36us/step - loss: 0.6858 - acc: 0.5470 - val_loss: 0.6765 - val_acc: 0.5676\n"
     ]
    }
   ],
   "source": [
    "#Fitting the data to the training dataset\n",
    "model =classifier.fit(x2_train,y2_train,epochs=30,callbacks=callbacks,batch_size =32,validation_data=(x2_test, y2_test))"
   ]
  },
  {
   "cell_type": "code",
   "execution_count": 182,
   "metadata": {},
   "outputs": [
    {
     "data": {
      "image/png": "[encoded data removed]",
      "text/plain": [
       "<Figure size 432x288 with 1 Axes>"
      ]
     },
     "metadata": {},
     "output_type": "display_data"
    }
   ],
   "source": [
    "plt.plot(model.history['acc'])\n",
    "plt.plot(model.history['val_acc'])\n",
    "plt.title('model accuracy for tanh in  Hidden Layer and Sigmoid in Output Layer')\n",
    "plt.ylabel('accuracy')\n",
    "plt.xlabel('epoch')\n",
    "plt.legend(['train', 'test'], loc='upper left')\n",
    "plt.show()"
   ]
  },
  {
   "cell_type": "code",
   "execution_count": 183,
   "metadata": {},
   "outputs": [
    {
     "data": {
      "image/png": "[encoded data removed]",
      "text/plain": [
       "<Figure size 432x288 with 1 Axes>"
      ]
     },
     "metadata": {},
     "output_type": "display_data"
    }
   ],
   "source": [
    "plt.plot(model.history['loss'])\n",
    "plt.plot(model.history['val_loss'])\n",
    "plt.title('model loss for Tanh in  Hidden Layer and Sigmoid in Output Layer')\n",
    "plt.ylabel('loss')\n",
    "plt.xlabel('epoch')\n",
    "plt.legend(['train', 'test'], loc='upper left')\n",
    "plt.show()"
   ]
  },
  {
   "cell_type": "code",
   "execution_count": 184,
   "metadata": {},
   "outputs": [
    {
     "data": {
      "image/png": "[encoded data removed]",
      "text/plain": [
       "<Figure size 360x360 with 2 Axes>"
      ]
     },
     "metadata": {},
     "output_type": "display_data"
    }
   ],
   "source": [
    "y_pred=classifier.predict(x2_test)\n",
    "y_pred =(y_pred>0.5)\n",
    "cm_nn_1 = confusion_matrix(y2_test, y_pred)\n",
    "f, ax = plt.subplots(figsize =(5,5))\n",
    "sns.heatmap(cm_nn_1,annot = True,linewidths=0.5,linecolor=\"red\",fmt = \".0f\",ax=ax)\n",
    "plt.title(\"Confusion matrix for test Data\")\n",
    "plt.xlabel(\"predicted y values\")\n",
    "plt.ylabel(\"real y values\")\n",
    "plt.show()"
   ]
  },
  {
   "cell_type": "markdown",
   "metadata": {},
   "source": [
    "# Neural Network After ICA"
   ]
  },
  {
   "cell_type": "code",
   "execution_count": 185,
   "metadata": {},
   "outputs": [],
   "source": [
    "x2_train, x2_test, y2_train, y2_test = train_test_split(X2_ICA, y2, test_size = 0.30)\n"
   ]
  },
  {
   "cell_type": "code",
   "execution_count": 186,
   "metadata": {},
   "outputs": [],
   "source": [
    "classifier = Sequential()\n",
    "#First Hidden Layer\n",
    "classifier.add(Dense(4, activation='tanh', kernel_initializer='random_normal', input_dim=5))\n",
    "#Second  Hidden Layer\n",
    "classifier.add(Dense(4, activation='tanh', kernel_initializer='random_normal'))\n",
    "#Output Layer\n",
    "classifier.add(Dense(1, activation='sigmoid', kernel_initializer='random_normal'))"
   ]
  },
  {
   "cell_type": "code",
   "execution_count": 187,
   "metadata": {},
   "outputs": [],
   "source": [
    "#Compiling the neural network\n",
    "classifier.compile(optimizer ='adam',loss='binary_crossentropy', metrics =['accuracy'])"
   ]
  },
  {
   "cell_type": "code",
   "execution_count": 188,
   "metadata": {},
   "outputs": [],
   "source": [
    "# Set callback functions to early stop training and save the best model so far\n",
    "callbacks = [EarlyStopping(monitor='val_loss', patience=2)]\n"
   ]
  },
  {
   "cell_type": "code",
   "execution_count": 189,
   "metadata": {},
   "outputs": [
    {
     "name": "stdout",
     "output_type": "stream",
     "text": [
      "Train on 3642 samples, validate on 1561 samples\n",
      "Epoch 1/30\n",
      "3642/3642 [==============================] - 1s 242us/step - loss: 0.6912 - acc: 0.5508 - val_loss: 0.6889 - val_acc: 0.5567\n",
      "Epoch 2/30\n",
      "3642/3642 [==============================] - 0s 34us/step - loss: 0.6885 - acc: 0.5519 - val_loss: 0.6869 - val_acc: 0.5567\n",
      "Epoch 3/30\n",
      "3642/3642 [==============================] - 0s 36us/step - loss: 0.6879 - acc: 0.5519 - val_loss: 0.6868 - val_acc: 0.5567\n",
      "Epoch 4/30\n",
      "3642/3642 [==============================] - 0s 35us/step - loss: 0.6877 - acc: 0.5519 - val_loss: 0.6865 - val_acc: 0.5567\n",
      "Epoch 5/30\n",
      "3642/3642 [==============================] - 0s 35us/step - loss: 0.6876 - acc: 0.5519 - val_loss: 0.6865 - val_acc: 0.5567\n",
      "Epoch 6/30\n",
      "3642/3642 [==============================] - 0s 37us/step - loss: 0.6876 - acc: 0.5519 - val_loss: 0.6863 - val_acc: 0.5567\n",
      "Epoch 7/30\n",
      "3642/3642 [==============================] - 0s 36us/step - loss: 0.6875 - acc: 0.5519 - val_loss: 0.6863 - val_acc: 0.5567\n",
      "Epoch 8/30\n",
      "3642/3642 [==============================] - 0s 36us/step - loss: 0.6874 - acc: 0.5519 - val_loss: 0.6862 - val_acc: 0.5567\n",
      "Epoch 9/30\n",
      "3642/3642 [==============================] - 0s 35us/step - loss: 0.6873 - acc: 0.5519 - val_loss: 0.6861 - val_acc: 0.5567\n",
      "Epoch 10/30\n",
      "3642/3642 [==============================] - 0s 36us/step - loss: 0.6872 - acc: 0.5519 - val_loss: 0.6860 - val_acc: 0.5567\n",
      "Epoch 11/30\n",
      "3642/3642 [==============================] - 0s 35us/step - loss: 0.6871 - acc: 0.5519 - val_loss: 0.6858 - val_acc: 0.5567\n",
      "Epoch 12/30\n",
      "3642/3642 [==============================] - 0s 36us/step - loss: 0.6870 - acc: 0.5519 - val_loss: 0.6856 - val_acc: 0.5567\n",
      "Epoch 13/30\n",
      "3642/3642 [==============================] - 0s 37us/step - loss: 0.6868 - acc: 0.5519 - val_loss: 0.6854 - val_acc: 0.5567\n",
      "Epoch 14/30\n",
      "3642/3642 [==============================] - 0s 35us/step - loss: 0.6866 - acc: 0.5519 - val_loss: 0.6852 - val_acc: 0.5567\n",
      "Epoch 15/30\n",
      "3642/3642 [==============================] - 0s 36us/step - loss: 0.6863 - acc: 0.5519 - val_loss: 0.6849 - val_acc: 0.5567\n",
      "Epoch 16/30\n",
      "3642/3642 [==============================] - 0s 36us/step - loss: 0.6861 - acc: 0.5519 - val_loss: 0.6846 - val_acc: 0.5567\n",
      "Epoch 17/30\n",
      "3642/3642 [==============================] - 0s 36us/step - loss: 0.6857 - acc: 0.5519 - val_loss: 0.6842 - val_acc: 0.5567\n",
      "Epoch 18/30\n",
      "3642/3642 [==============================] - 0s 36us/step - loss: 0.6853 - acc: 0.5519 - val_loss: 0.6836 - val_acc: 0.5567\n",
      "Epoch 19/30\n",
      "3642/3642 [==============================] - 0s 36us/step - loss: 0.6849 - acc: 0.5519 - val_loss: 0.6830 - val_acc: 0.5567\n",
      "Epoch 20/30\n",
      "3642/3642 [==============================] - 0s 37us/step - loss: 0.6841 - acc: 0.5519 - val_loss: 0.6822 - val_acc: 0.5567\n",
      "Epoch 21/30\n",
      "3642/3642 [==============================] - 0s 38us/step - loss: 0.6833 - acc: 0.5519 - val_loss: 0.6814 - val_acc: 0.5567\n",
      "Epoch 22/30\n",
      "3642/3642 [==============================] - 0s 41us/step - loss: 0.6827 - acc: 0.5522 - val_loss: 0.6805 - val_acc: 0.5567\n",
      "Epoch 23/30\n",
      "3642/3642 [==============================] - 0s 40us/step - loss: 0.6816 - acc: 0.5684 - val_loss: 0.6795 - val_acc: 0.5714\n",
      "Epoch 24/30\n",
      "3642/3642 [==============================] - 0s 37us/step - loss: 0.6808 - acc: 0.5692 - val_loss: 0.6783 - val_acc: 0.5919\n",
      "Epoch 25/30\n",
      "3642/3642 [==============================] - 0s 36us/step - loss: 0.6799 - acc: 0.5884 - val_loss: 0.6774 - val_acc: 0.6079\n",
      "Epoch 26/30\n",
      "3642/3642 [==============================] - 0s 35us/step - loss: 0.6787 - acc: 0.6052 - val_loss: 0.6765 - val_acc: 0.6111\n",
      "Epoch 27/30\n",
      "3642/3642 [==============================] - 0s 35us/step - loss: 0.6780 - acc: 0.5964 - val_loss: 0.6763 - val_acc: 0.5913\n",
      "Epoch 28/30\n",
      "3642/3642 [==============================] - 0s 37us/step - loss: 0.6771 - acc: 0.5923 - val_loss: 0.6752 - val_acc: 0.6118\n",
      "Epoch 29/30\n",
      "3642/3642 [==============================] - 0s 37us/step - loss: 0.6771 - acc: 0.5956 - val_loss: 0.6752 - val_acc: 0.5906\n",
      "Epoch 30/30\n",
      "3642/3642 [==============================] - 0s 43us/step - loss: 0.6766 - acc: 0.5936 - val_loss: 0.6747 - val_acc: 0.5906\n"
     ]
    }
   ],
   "source": [
    "#Fitting the data to the training dataset\n",
    "model =classifier.fit(x2_train,y2_train,epochs=30,callbacks=callbacks,batch_size =32,validation_data=(x2_test, y2_test))"
   ]
  },
  {
   "cell_type": "code",
   "execution_count": 190,
   "metadata": {},
   "outputs": [
    {
     "data": {
      "image/png": "[encoded data removed]",
      "text/plain": [
       "<Figure size 360x360 with 2 Axes>"
      ]
     },
     "metadata": {},
     "output_type": "display_data"
    }
   ],
   "source": [
    "y_pred=classifier.predict(x2_test)\n",
    "y_pred =(y_pred>0.5)\n",
    "cm_nn_1 = confusion_matrix(y2_test, y_pred)\n",
    "f, ax = plt.subplots(figsize =(5,5))\n",
    "sns.heatmap(cm_nn_1,annot = True,linewidths=0.5,linecolor=\"red\",fmt = \".0f\",ax=ax)\n",
    "plt.title(\"Confusion matrix for test Data\")\n",
    "plt.xlabel(\"predicted y values\")\n",
    "plt.ylabel(\"real y values\")\n",
    "plt.show()"
   ]
  },
  {
   "cell_type": "code",
   "execution_count": 191,
   "metadata": {},
   "outputs": [
    {
     "data": {
      "image/png": "[encoded data removed]",
      "text/plain": [
       "<Figure size 432x288 with 1 Axes>"
      ]
     },
     "metadata": {},
     "output_type": "display_data"
    }
   ],
   "source": [
    "plt.plot(model.history['acc'])\n",
    "plt.plot(model.history['val_acc'])\n",
    "plt.title('model accuracy for tanh in  Hidden Layer and Sigmoid in Output Layer')\n",
    "plt.ylabel('accuracy')\n",
    "plt.xlabel('epoch')\n",
    "plt.legend(['train', 'test'], loc='upper left')\n",
    "plt.show()"
   ]
  },
  {
   "cell_type": "code",
   "execution_count": 192,
   "metadata": {},
   "outputs": [
    {
     "data": {
      "image/png": "[encoded data removed]",
      "text/plain": [
       "<Figure size 432x288 with 1 Axes>"
      ]
     },
     "metadata": {},
     "output_type": "display_data"
    }
   ],
   "source": [
    "plt.plot(model.history['loss'])\n",
    "plt.plot(model.history['val_loss'])\n",
    "plt.title('model loss for Tanh in  Hidden Layer and Sigmoid in Output Layer')\n",
    "plt.ylabel('loss')\n",
    "plt.xlabel('epoch')\n",
    "plt.legend(['train', 'test'], loc='upper left')\n",
    "plt.show()"
   ]
  },
  {
   "cell_type": "code",
   "execution_count": 203,
   "metadata": {},
   "outputs": [],
   "source": [
    "x2_train, x2_test, y2_train, y2_test = train_test_split(labels_pred, y2, test_size = 0.30)"
   ]
  },
  {
   "cell_type": "code",
   "execution_count": 204,
   "metadata": {},
   "outputs": [],
   "source": [
    "classifier = Sequential()\n",
    "#First Hidden Layer\n",
    "classifier.add(Dense(4, activation='tanh', kernel_initializer='random_normal', input_dim=1))\n",
    "#Second  Hidden Layer\n",
    "classifier.add(Dense(4, activation='tanh', kernel_initializer='random_normal'))\n",
    "#Output Layer\n",
    "classifier.add(Dense(1, activation='sigmoid', kernel_initializer='random_normal'))"
   ]
  },
  {
   "cell_type": "code",
   "execution_count": 205,
   "metadata": {},
   "outputs": [],
   "source": [
    "#Compiling the neural network\n",
    "classifier.compile(optimizer ='adam',loss='binary_crossentropy', metrics =['accuracy'])"
   ]
  },
  {
   "cell_type": "code",
   "execution_count": 206,
   "metadata": {},
   "outputs": [],
   "source": [
    "# Set callback functions to early stop training and save the best model so far\n",
    "callbacks = [EarlyStopping(monitor='val_loss', patience=2)]\n"
   ]
  },
  {
   "cell_type": "code",
   "execution_count": 207,
   "metadata": {},
   "outputs": [
    {
     "name": "stdout",
     "output_type": "stream",
     "text": [
      "Train on 3642 samples, validate on 1561 samples\n",
      "Epoch 1/30\n",
      "3642/3642 [==============================] - 1s 267us/step - loss: 0.6912 - acc: 0.5538 - val_loss: 0.6903 - val_acc: 0.5471\n",
      "Epoch 2/30\n",
      "3642/3642 [==============================] - 0s 35us/step - loss: 0.6881 - acc: 0.5560 - val_loss: 0.6897 - val_acc: 0.5471\n",
      "Epoch 3/30\n",
      "3642/3642 [==============================] - 0s 44us/step - loss: 0.6871 - acc: 0.5560 - val_loss: 0.6902 - val_acc: 0.5471\n",
      "Epoch 4/30\n",
      "3642/3642 [==============================] - 0s 43us/step - loss: 0.6871 - acc: 0.5560 - val_loss: 0.6902 - val_acc: 0.5471\n"
     ]
    }
   ],
   "source": [
    "#Fitting the data to the training dataset\n",
    "model =classifier.fit(x2_train,y2_train,epochs=30,callbacks=callbacks,batch_size =32,validation_data=(x2_test, y2_test))"
   ]
  },
  {
   "cell_type": "code",
   "execution_count": 208,
   "metadata": {},
   "outputs": [
    {
     "data": {
      "image/png": "[encoded data removed]",
      "text/plain": [
       "<Figure size 360x360 with 2 Axes>"
      ]
     },
     "metadata": {},
     "output_type": "display_data"
    }
   ],
   "source": [
    "y_pred=classifier.predict(x2_test)\n",
    "y_pred =(y_pred>0.5)\n",
    "cm_nn_1 = confusion_matrix(y2_test, y_pred)\n",
    "f, ax = plt.subplots(figsize =(5,5))\n",
    "sns.heatmap(cm_nn_1,annot = True,linewidths=0.5,linecolor=\"red\",fmt = \".0f\",ax=ax)\n",
    "plt.title(\"Confusion matrix for test Data\")\n",
    "plt.xlabel(\"predicted y values\")\n",
    "plt.ylabel(\"real y values\")\n",
    "plt.show()"
   ]
  },
  {
   "cell_type": "code",
   "execution_count": 209,
   "metadata": {},
   "outputs": [
    {
     "data": {
      "image/png": "[encoded data removed]",
      "text/plain": [
       "<Figure size 432x288 with 1 Axes>"
      ]
     },
     "metadata": {},
     "output_type": "display_data"
    }
   ],
   "source": [
    "plt.plot(model.history['acc'])\n",
    "plt.plot(model.history['val_acc'])\n",
    "plt.title('model accuracy for tanh in  Hidden Layer and Sigmoid in Output Layer')\n",
    "plt.ylabel('accuracy')\n",
    "plt.xlabel('epoch')\n",
    "plt.legend(['train', 'test'], loc='upper left')\n",
    "plt.show()"
   ]
  },
  {
   "cell_type": "code",
   "execution_count": 210,
   "metadata": {},
   "outputs": [
    {
     "data": {
      "image/png": "[encoded data removed]",
      "text/plain": [
       "<Figure size 432x288 with 1 Axes>"
      ]
     },
     "metadata": {},
     "output_type": "display_data"
    }
   ],
   "source": [
    "plt.plot(model.history['loss'])\n",
    "plt.plot(model.history['val_loss'])\n",
    "plt.title('model loss for Tanh in  Hidden Layer and Sigmoid in Output Layer')\n",
    "plt.ylabel('loss')\n",
    "plt.xlabel('epoch')\n",
    "plt.legend(['train', 'test'], loc='upper left')\n",
    "plt.show()"
   ]
  },
  {
   "cell_type": "code",
   "execution_count": null,
   "metadata": {},
   "outputs": [],
   "source": []
  }
 ],
 "metadata": {
  "kernelspec": {
   "display_name": "Python 3",
   "language": "python",
   "name": "python3"
  },
  "language_info": {
   "codemirror_mode": {
    "name": "ipython",
    "version": 3
   },
   "file_extension": ".py",
   "mimetype": "text/x-python",
   "name": "python",
   "nbconvert_exporter": "python",
   "pygments_lexer": "ipython3",
   "version": "3.6.5"
  }
 },
 "nbformat": 4,
 "nbformat_minor": 2
}
